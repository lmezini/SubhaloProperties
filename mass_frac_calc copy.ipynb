{
 "cells": [
  {
   "cell_type": "code",
   "execution_count": 1,
   "metadata": {},
   "outputs": [],
   "source": [
    "import numpy as np \n",
    "from astropy.io import ascii\n",
    "#import scipy.special\n",
    "import matplotlib.pyplot as plt\n",
    "#from sklearn.model_selection import cross_val_score, GridSearchCV,cross_val_predict,train_test_split\n",
    "#from sklearn.linear_model import LinearRegression\n",
    "#from sklearn.ensemble import RandomForestRegressor\n",
    "#from sklearn.model_selection import KFold\n",
    "#from sklearn.metrics import mean_squared_error, r2_score, mean_absolute_error\n",
    "from scipy.optimize import curve_fit\n",
    "import scipy.stats as stats\n",
    "\n"
   ]
  },
  {
   "cell_type": "code",
   "execution_count": 2,
   "metadata": {},
   "outputs": [],
   "source": [
    "names =['scale','ID','desc_scale','desc_id','num_prog','pid','upid','desc_pid',\n",
    "    'phantom','sam_mvir','Mvir','Rvir','Rs', 'vrms', 'mmp', 'scale_of_last_MM',\n",
    "    'Vmax', 'X','Y','Z','VX','VY','VZ','JX','JY','JZ','Spin','Breadth_first_ID',\n",
    "    'Depth_first_ID','Tree_root_ID','Orig_halo_ID','Snap_num',\n",
    "    'Next_coprogenitor_depthfirst_ID','Last_progenitor_depthfirst_ID',\n",
    "    'Rs_Klypin','Mvir_all','M200b','M200c','M500c','M2500c','Xoff','Voff',\n",
    "    'spin_bullock','b_to_a','c_to_a','A[x]','A[y]','A[z]','b_to_a(500c)',\n",
    "    'c_to_a(500c)','A[x](500c)','A[y](500c)','A[z](500c)','T/|U|','Macc',\n",
    "    'Mpeak','Vacc','Vpeak','Halfmass_Scale','Acc_Rate_Inst','Acc_Rate_100Myr',\n",
    "    'Acc_Rate_Tdyn']"
   ]
  },
  {
   "cell_type": "code",
   "execution_count": 3,
   "metadata": {},
   "outputs": [],
   "source": [
    "host_vals = ascii.read('host_og_vals.table', format = 'commented_header') \n",
    "\n",
    "rvirs = host_vals['rvir']\n",
    "mvirs = host_vals['mvir']\n",
    "hostx = host_vals['hostx']\n",
    "hosty = host_vals['hosty']\n",
    "hostz = host_vals['hostz']\n",
    "hostvx = host_vals['hostvx']\n",
    "hostvy =host_vals['hostvy']\n",
    "hostvz = host_vals['hostvz']\n",
    "host_shapes = host_vals['host_shapes']\n",
    "host_spins = host_vals['host_spins']\n",
    "host_cs = host_vals['host_cs']\n",
    "hostJx = host_vals['hostJx']\n",
    "hostJy = host_vals['hostJy']\n",
    "hostJz = host_vals['hostJz']\n",
    "\n",
    "halo_names = []\n",
    "host_ids = []\n",
    "rvirs = []\n",
    "mvirs = []\n",
    "vmaxs = []\n",
    "\n",
    "with open('halos_info.txt') as f:\n",
    "    for l in f:\n",
    "        this_halo, host_id, block, _ = l.split()\n",
    "        halo_names.append(this_halo)\n",
    "        host_ids.append(host_id)\n",
    "        hostvalues = ascii.read('/Users/lmezini/proj_2/Halos_Recalculated/{}/out_0.list_final'.format(this_halo),format = 'commented_header')\n",
    "        rvirs.append(hostvalues['host_rvir'][0])\n",
    "        mvirs.append(hostvalues['host_mvir'][0])\n",
    "        vmaxs.append(hostvalues['vmax'][0])\n",
    "\n",
    "hlist_host_ids = []\n",
    "with open('hlist_halo_ids.txt') as f:\n",
    "    for l in f:\n",
    "        this_halo, host_id = l.split()\n",
    "        hlist_host_ids.append(int(host_id))\n",
    "\n"
   ]
  },
  {
   "cell_type": "code",
   "execution_count": 4,
   "metadata": {},
   "outputs": [],
   "source": [
    "sub_pos = []\n",
    "sub_mass = []\n",
    "sub_rvir = []\n",
    "host_pos = []\n",
    "host_TU_val = []\n",
    "host_acc_rate_tdyn = []\n",
    "host_acc_rate_100myr = []\n",
    "host_c = []\n",
    "for i,halo in enumerate(halo_names):\n",
    "    hostvalues = ascii.read('/Users/lmezini/proj_2/rs_files/{}/hlist.list'.format(halo),names=names)\n",
    "    loc = int(np.where(hostvalues['ID']==int(hlist_host_ids[i]))[0][0])\n",
    "\n",
    "    halo_rvir = hostvalues['Rvir'][loc]\n",
    "    halo_mvir = hostvalues['Mvir'][loc]\n",
    "    \n",
    "    host_TU_val.append(hostvalues['T/|U|'][loc])\n",
    "    host_acc_rate_tdyn.append(hostvalues['Acc_Rate_Tdyn'][loc])\n",
    "    host_acc_rate_100myr.append(hostvalues['Acc_Rate_100Myr'][loc])\n",
    "    host_c.append(hostvalues['Rvir'][loc]/hostvalues['Rs'][loc])\n",
    "\n",
    "    ##Position in Mpc/h##\n",
    "    halox = hostvalues['X'][loc]\n",
    "    haloy = hostvalues['Y'][loc]\n",
    "    haloz = hostvalues['Z'][loc]\n",
    "    host_pos.append(np.array((halox, haloy, haloz)))\n",
    "\n",
    "    hostvalues.remove_row(loc)\n",
    "    wh = np.where(hostvalues['upid']==int(hlist_host_ids[i]))\n",
    "    hostvalues = hostvalues[wh]\n",
    "    \n",
    "    ##Position in Mpc/h##\n",
    "    subx = hostvalues['X']\n",
    "    suby = hostvalues['Y']\n",
    "    subz = hostvalues['Z']\n",
    "\n",
    "    r = np.sqrt((subx - halox)**2+(suby - haloy)**2+(subz - haloz)**2)\n",
    "    #mean_r[i] += np.mean(r)\n",
    "\n",
    "    wh = np.where(r<halo_rvir)\n",
    "    hostvalues = hostvalues[wh]\n",
    "\n",
    "    wh = hostvalues['Vmax']>10.\n",
    "    hostvalues = hostvalues[wh]\n",
    "\n",
    "    subx = hostvalues['X']\n",
    "    suby = hostvalues['Y']\n",
    "    subz = hostvalues['Z']\n",
    "\n",
    "    r = np.sqrt((subx - halox)**2+(suby - haloy)**2+(subz - haloz)**2)\n",
    "\n",
    "    posx = (subx - halox)\n",
    "    posy = (suby - haloy) \n",
    "    posz = (subz - haloz) \n",
    "    pos = np.array(list(zip(posx, posy, posz)))\n",
    "    sub_mass.append(hostvalues['Mvir'])\n",
    "    sub_pos.append(pos)\n",
    "    sub_rvir.append(hostvalues['Rvir'])\n",
    "\n"
   ]
  },
  {
   "cell_type": "code",
   "execution_count": 5,
   "metadata": {},
   "outputs": [],
   "source": [
    "jsubs_jhost_angs = np.array([0.96120916, 0.83244424, 0.83373664, 0.50750575, 0.92927496,\n",
    "       0.95872028, 0.30154109, 0.8594474 , 0.23314348, 0.2493161 ,\n",
    "       0.69984051, 0.91083318, 0.91174542, 0.78552653, 0.94364538,\n",
    "       0.57178404, 0.71523852, 0.73722746, 0.8360834 , 0.98803   ,\n",
    "       0.99788098, 0.93729526, 0.42859609, 0.91937514, 0.60439602,\n",
    "       0.22565998, 0.92713759, 0.35072081, 0.99531559, 0.97213375,\n",
    "       0.95255881, 0.95675472, 0.62498674, 0.78518782, 0.99892756,\n",
    "       0.55884304, 0.97002538, 0.29746222, 0.6735368 , 0.96597007,\n",
    "       0.97807438, 0.6269004 , 0.58810487, 0.0219024 , 0.960565  ])"
   ]
  },
  {
   "cell_type": "code",
   "execution_count": 67,
   "metadata": {},
   "outputs": [],
   "source": [
    "def rfr_model(X, y):\n",
    "# Perform Grid-Search\n",
    "    gsc = GridSearchCV(\n",
    "    estimator=RandomForestRegressor(),\n",
    "    param_grid={\n",
    "            'max_depth': range(1,2),\n",
    "            'n_estimators': (10, 50, 100, 1000),\n",
    "        },\n",
    "    cv=5, scoring='neg_mean_squared_error', verbose=0, n_jobs=-1)\n",
    "    \n",
    "    grid_result = gsc.fit(X, y)\n",
    "    best_params = grid_result.best_params_\n",
    "    \n",
    "    rfr = RandomForestRegressor(max_depth=best_params[\"max_depth\"], n_estimators=best_params[\"n_estimators\"],                               random_state=False, verbose=False)\n",
    "# Perform K-Fold CV\n",
    "    scores = cross_val_score(rfr, X, y, cv=10, scoring='neg_mean_absolute_error')\n",
    "    predictions = cross_val_predict(rfr, X, y, cv=10)\n",
    "    return scores, predictions, best_params"
   ]
  },
  {
   "cell_type": "code",
   "execution_count": 80,
   "metadata": {},
   "outputs": [],
   "source": [
    "X_train, X_test, y_train, y_test = train_test_split(X, y, test_size = 0.25, random_state = 1)\n",
    "y_train = y_train\n",
    "y_test = y_test"
   ]
  },
  {
   "cell_type": "code",
   "execution_count": 81,
   "metadata": {},
   "outputs": [
    {
     "data": {
      "text/plain": [
       "RandomForestRegressor(max_depth=1, n_estimators=50, random_state=0)"
      ]
     },
     "execution_count": 81,
     "metadata": {},
     "output_type": "execute_result"
    }
   ],
   "source": []
  },
  {
   "cell_type": "code",
   "execution_count": 122,
   "metadata": {},
   "outputs": [
    {
     "name": "stdout",
     "output_type": "stream",
     "text": [
      "Mean Absolute Error: -0.019, Standard Deviation : 0.009\n",
      "Mean Absolute Error: -1.010, Standard Deviation : 2.018\n"
     ]
    },
    {
     "data": {
      "image/png": "[encoded data removed]",
      "text/plain": [
       "<Figure size 432x288 with 1 Axes>"
      ]
     },
     "metadata": {
      "needs_background": "light"
     },
     "output_type": "display_data"
    }
   ],
   "source": [
    "X,y = jsubs_jhost_angs.reshape(-1, 1), np.array(host_TU_val)\n",
    "\n",
    "rfr = RandomForestRegressor(n_estimators = 50, random_state = 0,max_depth=1)\n",
    "rfr.fit(X, y)\n",
    "\n",
    "folds = 5\n",
    "kfold = KFold(n_splits=folds)\n",
    "# set scoring parameter to 'neg_mean_absolute_error'\n",
    "scoring = 'neg_mean_absolute_error'\n",
    "\n",
    "# call cross_val_score() to run cross validation\n",
    "resultArr = cross_val_score(rfr, X, y, cv=kfold, scoring=scoring)\n",
    "\n",
    "# calculate mean of scores for all folds\n",
    "mae = resultArr.mean()\n",
    "\n",
    "# calculate standard deviation\n",
    "stdAccuracy = resultArr.std()\n",
    "\n",
    "# display Mean Absolute Error\n",
    "# descending score(smallest score is best) is denoted by negative even though the value is positive\n",
    "print(\"Mean Absolute Error: %.3f, Standard Deviation : %.3f\" % (mae, stdAccuracy))\n",
    "\n",
    "\n",
    "model = LinearRegression()\n",
    "model.fit(X,y)\n",
    "# set scoring parameter to 'neg_mean_absolute_error'\n",
    "scoring = 'neg_mean_absolute_error'\n",
    "\n",
    "# call cross_val_score() to run cross validation\n",
    "resultArr = cross_val_score(model, X, y, cv=kfold)#, scoring=scoring)\n",
    "\n",
    "# calculate mean of scores for all folds\n",
    "mae = resultArr.mean()\n",
    "\n",
    "# calculate standard deviation\n",
    "stdAccuracy = resultArr.std()\n",
    "\n",
    "# display Mean Absolute Error\n",
    "# descending score(smallest score is best) is denoted by negative even though the value is positive\n",
    "print(\"Mean Absolute Error: %.3f, Standard Deviation : %.3f\" % (mae, stdAccuracy))\n",
    "\n",
    "X_grid = np.arange(min(X), max(X),0.01)# (max(jsubs_jhost_angs)-min(jsubs_jhost_angs))/45)\n",
    "\n",
    "# reshape for reshaping the data into a len(X_grid)*1 array,\n",
    "# i.e. to make a column out of the X_grid value                 \n",
    "X_grid = X_grid.reshape(len(X_grid), 1)\n",
    "\n",
    "# Scatter plot for original data\n",
    "t = (mvirs)\n",
    "plt.scatter(X, y, color='blue')\n",
    "#plt.colorbar()\n",
    "# plot predicted data\n",
    "plt.plot(X_grid, rfr.predict(X_grid),\n",
    "         color = 'green',label='RF')\n",
    "plt.plot(X_grid,model.predict(X_grid),color='m',label='Linear')\n",
    "plt.title('color bar = mass')\n",
    "plt.ylabel('host acc rate tdyn')\n",
    "plt.xlabel('cos(angle) angular momentmum')\n",
    "plt.legend()\n",
    "plt.show()\n"
   ]
  },
  {
   "cell_type": "code",
   "execution_count": 72,
   "metadata": {},
   "outputs": [],
   "source": [
    "X,y = jsubs_jhost_angs.reshape(-1, 1), np.array(host_acc_rate_tdyn)\n",
    "scores,predictions,best_params = rfr_model(X, y)"
   ]
  },
  {
   "cell_type": "code",
   "execution_count": 83,
   "metadata": {},
   "outputs": [
    {
     "name": "stdout",
     "output_type": "stream",
     "text": [
      "-32.723212621271685 [56.39996741 32.86301233 32.86301233 27.47738085 47.46167482 56.9111133\n",
      " 24.85333215 32.12917921 24.85333215 24.85333215 35.91767758 42.76410669\n",
      " 42.76410669 35.91767758 43.62681301 27.57202536 34.52225206 34.52225206\n",
      " 34.52225206 57.54098545 46.62115307 47.18781556 23.07670779 23.99146826\n",
      " 22.98098873 23.14476989 49.75507533 23.14476989 60.13228667 43.94963953\n",
      " 43.82522011 43.82522011 29.84561589 28.87762142 74.67922623 24.30527885\n",
      " 59.85335884 24.78319555 29.61440912 60.2822792  61.75340611 31.14809048\n",
      " 31.14809048 26.53476713 48.76009044] {'max_depth': 1, 'n_estimators': 100}\n"
     ]
    }
   ],
   "source": [
    "print(scores.mean(),predictions,best_params)"
   ]
  },
  {
   "cell_type": "code",
   "execution_count": 107,
   "metadata": {},
   "outputs": [
    {
     "name": "stderr",
     "output_type": "stream",
     "text": [
      "/var/folders/q3/qkwnggcn0hz9nm0zc4p3drfr0000gn/T/ipykernel_40923/814932768.py:4: DataConversionWarning: A column-vector y was passed when a 1d array was expected. Please change the shape of y to (n_samples,), for example using ravel().\n",
      "  regressor.fit(param1.reshape(-1, 1),(param2).reshape(-1, 1))\n"
     ]
    },
    {
     "name": "stdout",
     "output_type": "stream",
     "text": [
      "0.09396066331298192\n"
     ]
    },
    {
     "data": {
      "image/png": "[encoded data removed]",
      "text/plain": [
       "<Figure size 432x288 with 2 Axes>"
      ]
     },
     "metadata": {
      "needs_background": "light"
     },
     "output_type": "display_data"
    }
   ],
   "source": [
    "param1 = jsubs_jhost_angs\n",
    "param2 = np.array(host_acc_rate_tdyn)\n",
    "regressor = RandomForestRegressor(n_estimators = 50, random_state = 0,max_depth=1)\n",
    "regressor.fit(param1.reshape(-1, 1),(param2).reshape(-1, 1)) \n",
    "print(regressor.score(param1.reshape(-1, 1),(param2).reshape(-1, 1), sample_weight=None))\n",
    "# Visualising the Random Forest Regression results\n",
    " \n",
    "# arrange for creating a range of values\n",
    "# from min value of x to max\n",
    "# value of x with a difference of 0.01\n",
    "# between two consecutive values\n",
    "X_grid = np.arange(min(param1), max(param1),0.01)# (max(jsubs_jhost_angs)-min(jsubs_jhost_angs))/45)\n",
    "\n",
    "# reshape for reshaping the data into a len(X_grid)*1 array,\n",
    "# i.e. to make a column out of the X_grid value                 \n",
    "X_grid = X_grid.reshape(len(X_grid), 1)\n",
    "\n",
    "# Scatter plot for original data\n",
    "t = (mvirs)\n",
    "plt.scatter(param1, param2, c = t) \n",
    "plt.colorbar()\n",
    "# plot predicted data\n",
    "plt.plot(X_grid, regressor.predict(X_grid),\n",
    "         color = 'green')\n",
    "plt.title('color bar = mass')\n",
    "plt.ylabel('host acc rate tdyn')\n",
    "plt.xlabel('cos(angle) angular momentmum')\n",
    "plt.show()\n"
   ]
  },
  {
   "cell_type": "code",
   "execution_count": 112,
   "metadata": {},
   "outputs": [
    {
     "name": "stdout",
     "output_type": "stream",
     "text": [
      "Mean Absolute Error: -0.987, Standard Deviation : 1.929\n"
     ]
    }
   ],
   "source": [
    "X,y = jsubs_jhost_angs.reshape(-1, 1), np.array(host_acc_rate_tdyn)\n",
    "# set k-fold count\n",
    "folds = 5\n",
    "\n",
    "# set seed to reproduce the same random data each time\n",
    "seed = 7\n",
    "\n",
    "# split data using KFold\n",
    "kfold = KFold(n_splits=folds)#, random_state=seed)\n",
    "\n",
    "# instantiate a regression model\n",
    "model = LinearRegression()\n",
    "\n",
    "# set scoring parameter to 'neg_mean_absolute_error'\n",
    "scoring = 'neg_mean_absolute_error'\n",
    "\n",
    "# call cross_val_score() to run cross validation\n",
    "resultArr = cross_val_score(model, X, y, cv=kfold)#, scoring=scoring)\n",
    "\n",
    "# calculate mean of scores for all folds\n",
    "mae = resultArr.mean()\n",
    "\n",
    "# calculate standard deviation\n",
    "stdAccuracy = resultArr.std()\n",
    "\n",
    "# display Mean Absolute Error\n",
    "# descending score(smallest score is best) is denoted by negative even though the value is positive\n",
    "print(\"Mean Absolute Error: %.3f, Standard Deviation : %.3f\" % (mae, stdAccuracy))"
   ]
  },
  {
   "cell_type": "code",
   "execution_count": 110,
   "metadata": {},
   "outputs": [
    {
     "name": "stdout",
     "output_type": "stream",
     "text": [
      "Mean Absolute Error: -0.801, Standard Deviation : 1.335\n"
     ]
    }
   ],
   "source": [
    "X,y = jsubs_jhost_angs.reshape(-1, 1), np.array(host_acc_rate_tdyn)\n",
    "\n",
    "# set k-fold count\n",
    "folds = 5\n",
    "\n",
    "# set seed to reproduce the same random data each time\n",
    "seed = 7\n",
    "\n",
    "# split data using KFold\n",
    "kfold = KFold(n_splits=folds)#, random_state=seed)\n",
    "\n",
    "# instantiate a regression model\n",
    "model = RandomForestRegressor(n_estimators = 50, random_state = seed,max_depth=1)\n",
    "\n",
    "# set scoring parameter to 'neg_mean_absolute_error'\n",
    "scoring = 'neg_mean_absolute_error'\n",
    "\n",
    "# call cross_val_score() to run cross validation\n",
    "resultArr = cross_val_score(model, X, y, cv=kfold)#, scoring=scoring)\n",
    "\n",
    "# calculate mean of scores for all folds\n",
    "mae = resultArr.mean()\n",
    "\n",
    "# calculate standard deviation\n",
    "stdAccuracy = resultArr.std()\n",
    "\n",
    "# display Mean Absolute Error\n",
    "# descending score(smallest score is best) is denoted by negative even though the value is positive\n",
    "print(\"Mean Absolute Error: %.3f, Standard Deviation : %.3f\" % (mae, stdAccuracy))"
   ]
  },
  {
   "cell_type": "code",
   "execution_count": 99,
   "metadata": {},
   "outputs": [
    {
     "name": "stdout",
     "output_type": "stream",
     "text": [
      "Mean Absolute Error: 32.76\n",
      "Mean Squared Error: 2079.7\n",
      "R-squared scores: -0.13\n"
     ]
    }
   ],
   "source": [
    "# Mean absolute error (MAE)\n",
    "mae = mean_absolute_error(y, predictions)\n",
    "\n",
    "# Mean squared error (MSE)\n",
    "mse = mean_squared_error(y, predictions)\n",
    "\n",
    "# R-squared scores\n",
    "r2 = r2_score(y, predictions)\n",
    "\n",
    "# Print metrics\n",
    "print('Mean Absolute Error:', round(mae, 2))\n",
    "print('Mean Squared Error:', round(mse, 2))\n",
    "print('R-squared scores:', round(r2, 2))"
   ]
  },
  {
   "cell_type": "code",
   "execution_count": 6,
   "metadata": {},
   "outputs": [],
   "source": [
    "def step(x,a,b,c): \n",
    "    #return a * np.sign(x-b) + c\n",
    "    return a+np.heaviside(x-b,1)*c\n",
    "\n",
    "def line(x,a,b):\n",
    "    return a*x + b\n",
    "\n",
    "def exp(x,a,b,c):\n",
    "    return a*(x**b)+c\n",
    "    #return a*np.exp(x*b)\n",
    "\n",
    "def chi2(o,e):\n",
    "    return np.sum(((o-e)**2)/e)\n",
    "\n",
    "def AIC(chi2,k):\n",
    "    return chi2+2*k\n",
    "\n",
    "def BIC(chi2,k,n):\n",
    "    return chi2 + k*np.log(n)"
   ]
  },
  {
   "cell_type": "code",
   "execution_count": 75,
   "metadata": {},
   "outputs": [],
   "source": [
    "X,y = jsubs_jhost_angs, np.array(host_TU_val)\n",
    "popt_step,pcov=curve_fit(step,X,y,bounds=([0.2,0.85,.005],[.35,.97,10]))\n",
    "#print('popt = %s' % popt_step)\n",
    "#print('pcov = \\n %s' % pcov)\n",
    "\n",
    "popt_exp,pcov=curve_fit(exp,X,y,bounds=([0.0,10.,0.],[10.0,40,.3]))\n",
    "#print('popt = %s' % popt_exp)\n",
    "#print('pcov = \\n %s' % pcov)\n",
    "\n",
    "popt,pcov=curve_fit(line,X,y,bounds=([0,0],[10,50]))\n",
    "#print('popt = %s' % popt)\n",
    "#print('pcov = \\n %s' % pcov)"
   ]
  },
  {
   "cell_type": "code",
   "execution_count": 77,
   "metadata": {},
   "outputs": [
    {
     "data": {
      "text/plain": [
       "Text(0.5, 1.0, 'MWM')"
      ]
     },
     "execution_count": 77,
     "metadata": {},
     "output_type": "execute_result"
    },
    {
     "data": {
      "image/png": "[encoded data removed]",
      "text/plain": [
       "<Figure size 432x288 with 1 Axes>"
      ]
     },
     "metadata": {
      "needs_background": "light"
     },
     "output_type": "display_data"
    }
   ],
   "source": [
    "t = (mvirs)\n",
    "plt.scatter(X, y, c ='b',) \n",
    "\n",
    "plt.plot(np.sort(X),step(np.sort(X),popt_step[0],popt_step[1],popt_step[2]),color='m')\n",
    "plt.plot(np.sort(X),exp(np.sort(X),popt_exp[0],popt_exp[1],popt_exp[2]),color='c')\n",
    "plt.plot(np.sort(X),line(np.sort(X),popt[0],popt[1]),color='green')\n",
    "plt.xlabel('cos(phi)')\n",
    "plt.ylabel('T/|U|')\n",
    "plt.title('MWM')"
   ]
  },
  {
   "cell_type": "code",
   "execution_count": 79,
   "metadata": {},
   "outputs": [
    {
     "name": "stdout",
     "output_type": "stream",
     "text": [
      "step chi2,BIC,AIC: 0.12013109186220576 11.333139946712311 6.120131091862206\n",
      "line chi2,BIC,AIC: 0.1219040615400485 7.644304292927173 4.121904061540048\n",
      "exp chi2,BIC,AIC: 0.12166810643923673 11.334676961289343 6.121668106439237\n"
     ]
    }
   ],
   "source": [
    "step_chi2 = chi2(y,step(X,popt_step[0],popt_step[1],popt_step[2]))\n",
    "line_chi2 = chi2(y,line(X,popt[0],popt[1]))\n",
    "exp_chi2 = chi2(y,exp(X,popt_exp[0],popt_exp[1],popt_exp[2]))\n",
    "print('step chi2,BIC,AIC: {}'.format(step_chi2),BIC(step_chi2,3,42),AIC(step_chi2,3))\n",
    "print('line chi2,BIC,AIC: {}'.format(line_chi2),BIC(line_chi2,2,43),AIC(line_chi2,2))\n",
    "print('exp chi2,BIC,AIC: {}'.format(exp_chi2),BIC(exp_chi2,3,42),AIC(exp_chi2,3))"
   ]
  },
  {
   "cell_type": "code",
   "execution_count": 813,
   "metadata": {},
   "outputs": [],
   "source": [
    "cut = X>=0.91\n",
    "X_cut = X[cut]\n",
    "y_cut = y[cut]\n",
    "cut = X<0.91\n",
    "X_cut2 = X[cut]\n",
    "y_cut2 = y[cut]"
   ]
  },
  {
   "cell_type": "code",
   "execution_count": 817,
   "metadata": {},
   "outputs": [
    {
     "name": "stdout",
     "output_type": "stream",
     "text": [
      "KstestResult(statistic=0.4444444444444444, pvalue=0.0002237060786301627)\n"
     ]
    }
   ],
   "source": [
    "print(stats.ks_2samp(line(param1,popt[0],popt[1]),step(param1,popt_step[0],popt_step[1],popt_step[2])))#exp(np.sort(X),popt_exp[0],popt_exp[1],popt_exp[2])))"
   ]
  },
  {
   "cell_type": "markdown",
   "metadata": {},
   "source": []
  },
  {
   "cell_type": "code",
   "execution_count": 89,
   "metadata": {},
   "outputs": [
    {
     "data": {
      "image/png": "[encoded data removed]",
      "text/plain": [
       "<Figure size 432x288 with 1 Axes>"
      ]
     },
     "metadata": {
      "needs_background": "light"
     },
     "output_type": "display_data"
    }
   ],
   "source": [
    "cut_ys = np.zeros(500)\n",
    "X,y = jsubs_jhost_angs, np.array(host_TU_val)\n",
    "\n",
    "cut_hi = X>=0.90\n",
    "x_cut_hi = X[cut_hi]\n",
    "y_cut_hi = y[cut_hi]\n",
    "\n",
    "cut_lo = X<0.90\n",
    "x_cut_lo = X[cut_lo]\n",
    "y_cut_lo = y[cut_lo]\n",
    "\n",
    "y_cut_lo_med = np.mean(y_cut_lo)\n",
    "y_cut_hi_med = np.mean(y_cut_hi)\n",
    "\n",
    "\n",
    "for i in range(500):\n",
    "    np.random.shuffle(y)\n",
    "    y_cut_lo = np.mean(y[cut_lo])\n",
    "    y_cut_hi = np.mean(y[cut_hi])\n",
    "    cut_ys[i]+=(y_cut_hi-y_cut_lo)\n",
    "    #plt.scatter(x_cut,y_cut)\n",
    "    #plt.show()\n",
    "plt.hist(cut_ys,density=True,alpha=0.65)\n",
    "plt.axvline(y_cut_hi_med-y_cut_lo_med,color='m',label='True Mean Diff',alpha=0.5)\n",
    "plt.legend()\n",
    "plt.title('Permutation Test')\n",
    "plt.xlabel('Mean(>=0.9) - Mean(<0.9)')\n",
    "plt.show()"
   ]
  },
  {
   "cell_type": "code",
   "execution_count": 46,
   "metadata": {},
   "outputs": [
    {
     "name": "stdout",
     "output_type": "stream",
     "text": [
      "0.28205\n"
     ]
    }
   ],
   "source": [
    "print(y_cut_med)"
   ]
  },
  {
   "cell_type": "code",
   "execution_count": 52,
   "metadata": {},
   "outputs": [
    {
     "name": "stdout",
     "output_type": "stream",
     "text": [
      "0.2911444444444445 0.29842500000000005\n"
     ]
    }
   ],
   "source": [
    "X,y = jsubs_jhost_angs, np.array(host_TU_val)\n",
    "y_cut = y[cut]\n",
    "print(np.mean(y),np.mean(y_cut))"
   ]
  },
  {
   "cell_type": "code",
   "execution_count": null,
   "metadata": {},
   "outputs": [],
   "source": []
  }
 ],
 "metadata": {
  "kernelspec": {
   "display_name": "Python 3.9.7 ('sub_dist')",
   "language": "python",
   "name": "python3"
  },
  "language_info": {
   "codemirror_mode": {
    "name": "ipython",
    "version": 3
   },
   "file_extension": ".py",
   "mimetype": "text/x-python",
   "name": "python",
   "nbconvert_exporter": "python",
   "pygments_lexer": "ipython3",
   "version": "3.9.7"
  },
  "vscode": {
   "interpreter": {
    "hash": "0372cc7046c6f104f57b9ebf63a4b8b245d5e8f8c256e208557f356a4d18db0d"
   }
  }
 },
 "nbformat": 4,
 "nbformat_minor": 4
}
