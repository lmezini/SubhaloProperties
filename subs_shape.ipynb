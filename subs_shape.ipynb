{
 "cells": [
  {
   "cell_type": "code",
   "execution_count": 2,
   "metadata": {},
   "outputs": [],
   "source": [
    "import numpy as np \n",
    "from astropy.io import ascii\n",
    "from numpy.linalg import norm,eig\n",
    "import sys\n",
    "from calc_shape import calc_shape\n",
    "import matplotlib.pyplot as plt\n",
    "from matplotlib.patches import Ellipse\n",
    "from mpl_toolkits import mplot3d\n",
    "%matplotlib inline"
   ]
  },
  {
   "cell_type": "code",
   "execution_count": 42,
   "metadata": {},
   "outputs": [],
   "source": [
    "halo_names = []\n",
    "host_ids = []\n",
    "with open('halos_info.txt') as f:\n",
    "    for l in f:\n",
    "        this_halo, host_id, block, _ = l.split()\n",
    "        halo_names.append(this_halo)\n",
    "        host_ids.append(host_id)\n"
   ]
  },
  {
   "cell_type": "code",
   "execution_count": 4,
   "metadata": {},
   "outputs": [],
   "source": [
    "###external haloid == host halo id\n",
    "###smallest external haloid == subhalo id\n",
    "###if external haloid == smallest external haloid then particles\n",
    "# particles belong to smooth component"
   ]
  },
  {
   "cell_type": "code",
   "execution_count": 43,
   "metadata": {},
   "outputs": [],
   "source": [
    "#for comparing results\n",
    "def get_angle(v1,v2):\n",
    "    c = np.dot(v1,v2)/(norm(v1)*norm(v2)) # -> cosine of the angle\n",
    "    angle = np.arccos(np.clip(c, -1, 1))\n",
    "    angles = angle*180/np.pi\n",
    "    return angles"
   ]
  },
  {
   "cell_type": "code",
   "execution_count": 142,
   "metadata": {},
   "outputs": [],
   "source": [
    "subs = ascii.read('Halo023_sub.particle_table')\n",
    "hosts = ascii.read('Halo023_host.particle_table')\n",
    "alls = ascii.read('Halo023_all.particle_table')\n",
    "hostvalues = ascii.read('/Users/lmezini/proj_2/Halos_Recalculated/Halo023/out_0.list_final',format = 'commented_header')\n"
   ]
  },
  {
   "cell_type": "code",
   "execution_count": null,
   "metadata": {},
   "outputs": [],
   "source": [
    "host_x = hostvalues['host_x']\n",
    "host_y = hostvalues['host_y']\n",
    "host_z = hostvalues['host_z']\n",
    "rvir = hostvalues['host_rvir'][0]*1e-3 #convert to same units as x,y,z\n",
    "\n",
    "d = hosts\n",
    "x = d['x'] - host_x[0]\n",
    "y = d['y'] - host_y[0]\n",
    "z = d['z'] - host_z[0]\n",
    "host_pos = np.array((x,y,z))\n",
    "\n",
    "d = subs\n",
    "x = d['x'] - host_x[0]\n",
    "y = d['y'] - host_y[0]\n",
    "z = d['z'] - host_z[0]\n",
    "sub_pos = np.array((x,y,z))\n",
    "\n",
    "d = alls\n",
    "x = d['x'] - host_x[0]\n",
    "y = d['y'] - host_y[0]\n",
    "z = d['z'] - host_z[0]\n",
    "all_pos = np.array((x,y,z))\n",
    "#pos = np.array(list(zip(x, y, z))) #this is used for running yao's code"
   ]
  },
  {
   "cell_type": "code",
   "execution_count": 44,
   "metadata": {},
   "outputs": [],
   "source": [
    "#calculate starting inertia tensor\n",
    "def calc_sphere_inertia(p,s=1.,q=1.):\n",
    "    #p is position vector\n",
    "    #s,q are axis ratios\n",
    "    r2 = (p[0]**2 + (p[1]/q)**2 + (p[2]/s)**2)\n",
    "    Ixx = np.sum((p[0]*p[0])/r2)\n",
    "    Iyy = np.sum((p[1]*p[1])/r2)\n",
    "    Izz = np.sum((p[2]*p[2])/r2)\n",
    "    Ixy = np.sum((p[0]*p[1])/r2)\n",
    "    Iyz = np.sum((p[1]*p[2])/r2)\n",
    "    Ixz = np.sum((p[0]*p[2])/r2)\n",
    "    Iyx = Ixy\n",
    "    Izy = Iyz\n",
    "    Izx = Ixz\n",
    "    I = np.array(((Ixx,Ixy,Ixz),(Iyx,Iyy,Iyz),(Izx,Izy,Izz)))\n",
    "\n",
    "    return I\n",
    "\n",
    "def calc_inertia(p,p2,s=1.,q=1.,mass=1.):\n",
    "    #p is position vector\n",
    "    #s,q are axis ratios\n",
    "    r2 = (p2[0]**2 + (p2[1]/q)**2 + (p2[2]/s)**2)\n",
    "    Ixx = np.sum((p[0]*p[0])/r2)\n",
    "    Iyy = np.sum((p[1]*p[1])/r2)\n",
    "    Izz = np.sum((p[2]*p[2])/r2)\n",
    "    Ixy = np.sum((p[0]*p[1])/r2)\n",
    "    Iyz = np.sum((p[1]*p[2])/r2)\n",
    "    Ixz = np.sum((p[0]*p[2])/r2)\n",
    "    Iyx = Ixy\n",
    "    Izy = Iyz\n",
    "    Izx = Ixz\n",
    "    I = np.array(((Ixx,Ixy,Ixz),(Iyx,Iyy,Iyz),(Izx,Izy,Izz)))/mass\n",
    "\n",
    "    return I\n"
   ]
  },
  {
   "cell_type": "code",
   "execution_count": 45,
   "metadata": {},
   "outputs": [],
   "source": [
    "def get_eigs(I):\n",
    "    #return eigenvectors and eigenvalues\n",
    "    w,v = eig(I)\n",
    "    #sort in descending order\n",
    "    odr = np.argsort(-1.*w)\n",
    "    #sqrt of e values = a,b,c\n",
    "    w_sq = w[odr] \n",
    "    w = np.sqrt(w[odr])\n",
    "    v = v.T[odr]\n",
    "    #rescale so major axis = radius of original host\n",
    "    ratio = rvir/w[0]\n",
    "    w[0] = w[0]*ratio #this one is 'a'\n",
    "    w[1] = w[1]*ratio #b\n",
    "    w[2] = w[2]*ratio #c\n",
    "\n",
    "    return w,v,w_sq"
   ]
  },
  {
   "cell_type": "code",
   "execution_count": 46,
   "metadata": {},
   "outputs": [],
   "source": [
    "def check_ortho(evect):\n",
    "    #check if eigen vectors of inertia tensor are orthonormal\n",
    "    \n",
    "    #create indentity matrix\n",
    "    a = np.zeros((3, 3))\n",
    "    np.fill_diagonal(a, 1.)\n",
    "\n",
    "    #take dot product of v and v.T\n",
    "    #off diagonals are usually 1e-15 so round them to 0.\n",
    "    m = np.abs(np.round(np.dot(evect,evect.T),1))\n",
    "\n",
    "    #check if all elements are equal to identity matrix\n",
    "    if np.any(a != m):\n",
    "        print(\"not orthonormal\")\n",
    "        sys.exit(1)\n",
    "    \n",
    "        "
   ]
  },
  {
   "cell_type": "code",
   "execution_count": 47,
   "metadata": {},
   "outputs": [],
   "source": [
    "def get_axis(w):\n",
    "    #return axis ratios\n",
    "    a,b,c = w\n",
    "    s = c/a\n",
    "    q = b/a\n",
    "    \n",
    "    return s,q"
   ]
  },
  {
   "cell_type": "code",
   "execution_count": 59,
   "metadata": {},
   "outputs": [],
   "source": [
    "def transform(p,v):\n",
    "    #convert to coords of ellipsoid\n",
    "    #shape is 3 x Number of Particles\n",
    "    p_new = np.zeros(np.shape(p))\n",
    "    #loop over each of the 3 coorinates\n",
    "    for i in range(3):\n",
    "        p_new[i] += p[0]*v[i,0]+p[1]*v[i,1]+p[2]*v[i,2]\n",
    "    return p_new\n"
   ]
  },
  {
   "cell_type": "code",
   "execution_count": 60,
   "metadata": {},
   "outputs": [],
   "source": [
    "def cut_data(p1,p2,particles,s,q):\n",
    "    #calculate particle distances in new coord system\n",
    "    d = p2[0]**2 + (p2[1]/q)**2 + (p2[2]/s)**2\n",
    "    cut = d<0.00017**2 \n",
    "    d[cut] = 0.00017**2 #particle distances should not be below force resolution\n",
    "    #determine which are within the bounds\n",
    "    cut = d<=(rvir**2)\n",
    "    p2= p2.T[cut].T #trimmed down in new coord system\n",
    "    p = p1.T[cut].T #in orig coordinate system\n",
    "    particles = particles[cut] #\n",
    "\n",
    "    return p,p2,particles\n"
   ]
  },
  {
   "cell_type": "code",
   "execution_count": 61,
   "metadata": {},
   "outputs": [],
   "source": [
    "def get_new_I(p1,p2,s,q,particles=None,halos=None,mass_norm = False):\n",
    "    #return new inertia tensor using subset of particles within ellipsoid\n",
    "    #p1,p2 are xyz data in old and new coord system\n",
    "    #particles contains particle IDs\n",
    "    \n",
    "    #calculate new inertia tensor using orig coordinate system\n",
    "    #r^2 is caluclated in eigen vector coordinate system\n",
    "\n",
    "    if mass_norm:\n",
    "        I_tot = np.zeros((3,3))\n",
    "        #go through all halos in system\n",
    "        for h in halos:\n",
    "            #select set of particles belonging to halo\n",
    "            p_set = particles[\"smallest_external_haloid\"] == h['id']\n",
    "            p1_temp = p1.T[p_set].T\n",
    "            p2_temp = p2.T[p_set].T\n",
    "            h_mass = h['mvir']\n",
    "            I = calc_inertia(p1_temp,p2_temp,s,q,h_mass)\n",
    "            I_tot += I\n",
    "        \n",
    "        return I_tot\n",
    "\n",
    "    else:\n",
    "        I = calc_inertia(p1,p2,s,q)\n",
    "        \n",
    "        return I"
   ]
  },
  {
   "cell_type": "code",
   "execution_count": 726,
   "metadata": {},
   "outputs": [],
   "source": [
    "#this is yao's version\n",
    "force_res = 0.00017\n",
    "b_to_a, c_to_a, eig_A = calc_shape(rvir, [0,0,0], pos, force_res)"
   ]
  },
  {
   "cell_type": "code",
   "execution_count": 113,
   "metadata": {},
   "outputs": [
    {
     "data": {
      "text/plain": [
       "((3, 3281970), (3, 2676526), (3, 705608))"
      ]
     },
     "execution_count": 113,
     "metadata": {},
     "output_type": "execute_result"
    }
   ],
   "source": [
    "np.shape(all_pos),np.shape(host_pos),np.shape(sub_pos)"
   ]
  },
  {
   "cell_type": "code",
   "execution_count": 119,
   "metadata": {},
   "outputs": [
    {
     "name": "stdout",
     "output_type": "stream",
     "text": [
      "# particles: 3281970\n",
      "s,q: 0.7369301559530483,0.8162447568617168\n",
      "# particles: 2852222\n",
      "s,q: 0.6491479989327282,0.7228105851831215\n",
      "# particles: 2749485\n",
      "s,q: 0.6094673271023651,0.6757764090474856\n",
      "# particles: 2685687\n",
      "s,q: 0.5900636774682413,0.6511398196845744\n",
      "# particles: 2651342\n",
      "s,q: 0.580393659226447,0.6373197662221648\n",
      "# particles: 2632410\n",
      "s,q: 0.5754990722559404,0.629682213071466\n",
      "# particles: 2622245\n",
      "s,q: 0.5729680181712381,0.6254621661288763\n",
      "# particles: 2616565\n",
      "s,q: 0.5716558070116874,0.6231181522357887\n",
      "# particles: 2613446\n",
      "s,q: 0.5709892713644231,0.6217831587478643\n",
      "# particles: 2611703\n",
      "s,q: 0.5706528381682441,0.6210187627722343\n",
      "# particles: 2610779\n",
      "s,q: 0.5704801116913669,0.6205910194496593\n",
      "# particles: 2610218\n"
     ]
    }
   ],
   "source": [
    "data = all_pos\n",
    "print('# particles: {}'.format(np.shape(data)[1]))\n",
    "particles = alls\n",
    "s,q = 1.,1.\n",
    "I = calc_sphere_inertia(all_pos,s,q)\n",
    "err = 1.\n",
    "tol = .001 #keeping big while testing\n",
    "it = 0\n",
    "new_err = 1.\n",
    "old_err = 10.\n",
    "while new_err>tol:\n",
    "    s_old,q_old = s,q\n",
    "    old_err = new_err\n",
    "    #get eigen vectors and values of inertia tensor\n",
    "    w,v,w_sq = get_eigs(I)\n",
    "\n",
    "    #check if vectors are orthonormal\n",
    "    check_ortho(v)\n",
    "\n",
    "    #get new s and q\n",
    "    s,q = get_axis(w)\n",
    "    print('s,q: {},{}'.format(s,q))\n",
    "    #rotate to frame of principle axis \n",
    "    data_prime = transform(data,v)\n",
    "\n",
    "    #select which particles fall within new ellipsoid\n",
    "    data,data_prime,particles = cut_data(data,data_prime,particles,s,q)\n",
    "    print('# particles: {}'.format(np.shape(data)[1]))\n",
    "    #recalculate inertia tensor (can normalize by halo mass)\n",
    "    I = get_new_I(data,data_prime,s,q,particles,hostvalues,mass_norm = False)\n",
    "\n",
    "    #compare err to tolerance\n",
    "    err1 = abs(s_old-s)/s_old\n",
    "    err2 = abs(q_old-q)/q_old\n",
    "    new_err = max(err1,err2)\n",
    "\n",
    "    it += 1\n",
    "    #if it>9:\n",
    "    #    break\n",
    "    \"\"\"\n",
    "    plt.scatter(data_prime[1],data_prime[2])\n",
    "    plt.scatter(0,0)\n",
    "    plt.axvline(-rvir)\n",
    "    plt.axvline(rvir)\n",
    "    #plt.show()\n",
    "    plt.scatter(data[1],data[2])\n",
    "    plt.scatter(0,0)\n",
    "    plt.axvline(-rvir)\n",
    "    plt.axvline(rvir)\n",
    "    plt.xlabel('y')\n",
    "    plt.ylabel('z')\n",
    "    #plt.show()\n",
    "    plt.scatter(data[0],data[1])\n",
    "    plt.scatter(0,0)\n",
    "    plt.axvline(-rvir)\n",
    "    plt.axvline(rvir)\n",
    "    plt.xlabel('x')\n",
    "    plt.ylabel('y')\n",
    "    #plt.show()\n",
    "    plt.scatter(data[1],data[2])\n",
    "    plt.scatter(0,0)\n",
    "    plt.axvline(-rvir)\n",
    "    plt.axvline(rvir)\n",
    "    plt.xlabel('x')\n",
    "    plt.ylabel('z')\n",
    "    #plt.show()\n",
    "    \"\"\"\n",
    "    \n"
   ]
  },
  {
   "cell_type": "code",
   "execution_count": 1332,
   "metadata": {},
   "outputs": [],
   "source": [
    "host_I = I"
   ]
  },
  {
   "cell_type": "code",
   "execution_count": 1245,
   "metadata": {},
   "outputs": [],
   "source": [
    "diff_w,diff_v,diff_wv = get_eigs(diff_I)\n",
    "all_w,all_v,all_wv = get_eigs(all_I)\n",
    "host_w,host_v,host_wv = get_eigs(host_I)\n",
    "diff_s,diff_q = get_axis(diff_w)"
   ]
  },
  {
   "cell_type": "code",
   "execution_count": 1246,
   "metadata": {},
   "outputs": [
    {
     "data": {
      "text/plain": [
       "(0.5391436054841496, 0.6794380243383752)"
      ]
     },
     "execution_count": 1246,
     "metadata": {},
     "output_type": "execute_result"
    }
   ],
   "source": [
    "diff_s,diff_q"
   ]
  },
  {
   "cell_type": "code",
   "execution_count": 1247,
   "metadata": {},
   "outputs": [
    {
     "data": {
      "text/plain": [
       "(array([0.95541073, 0.09903495, 0.27817695]),\n",
       " array([0.95540383, 0.09905682, 0.27819286]),\n",
       " array([-0.89085571, -0.26379487, -0.36984911]))"
      ]
     },
     "execution_count": 1247,
     "metadata": {},
     "output_type": "execute_result"
    }
   ],
   "source": [
    "diff_v[0],all_v[0],host_v[0]"
   ]
  },
  {
   "cell_type": "code",
   "execution_count": 1250,
   "metadata": {},
   "outputs": [
    {
     "data": {
      "text/plain": [
       "168.56247645342185"
      ]
     },
     "execution_count": 1250,
     "metadata": {},
     "output_type": "execute_result"
    }
   ],
   "source": [
    "get_angle(host_v[0],diff_v[0])"
   ]
  },
  {
   "cell_type": "code",
   "execution_count": 1213,
   "metadata": {},
   "outputs": [
    {
     "data": {
      "image/png": "[encoded data removed]",
      "text/plain": [
       "<Figure size 432x288 with 1 Axes>"
      ]
     },
     "metadata": {
      "needs_background": "light"
     },
     "output_type": "display_data"
    },
    {
     "data": {
      "image/png": "[encoded data removed]",
      "text/plain": [
       "<Figure size 432x288 with 1 Axes>"
      ]
     },
     "metadata": {
      "needs_background": "light"
     },
     "output_type": "display_data"
    }
   ],
   "source": [
    "plt.figure()\n",
    "ax = plt.gca()\n",
    "\n",
    "ellipse_diff = Ellipse(xy=(0,0), width=2*diff_w[0], height=2*diff_w[1], \n",
    "                        edgecolor='r', fc='None', lw=1)\n",
    "ellipse_all = Ellipse(xy=(0,0), width=2*all_w[0], height=2*all_w[1], \n",
    "                        edgecolor='b', fc='None', lw=1,linestyle=':')\n",
    "ellipse_host = Ellipse(xy=(0,0), width=2*host_w[0], height=2*host_w[1], \n",
    "                        edgecolor='g', fc='None', lw=1)\n",
    "ax.add_patch(ellipse_diff)\n",
    "ax.add_patch(ellipse_all)\n",
    "ax.add_patch(ellipse_host)\n",
    "plt.xlim(-.25,.25)\n",
    "plt.ylim(-.25,.25)\n",
    "plt.xlabel('Ax')\n",
    "plt.ylabel('Ay')\n",
    "plt.show()\n",
    "\n",
    "plt.figure()\n",
    "ax = plt.gca()\n",
    "\n",
    "ellipse_diff = Ellipse(xy=(0,0), width=2*diff_w[0], height=2*diff_w[2], \n",
    "                        edgecolor='r', fc='None', lw=1)\n",
    "ellipse_all = Ellipse(xy=(0,0), width=2*all_w[0], height=2*all_w[2], \n",
    "                        edgecolor='b', fc='None', lw=1,linestyle=':')\n",
    "ellipse_host = Ellipse(xy=(0,0), width=2*host_w[0], height=2*host_w[2], \n",
    "                        edgecolor='g', fc='None', lw=1)\n",
    "ax.add_patch(ellipse_diff)\n",
    "ax.add_patch(ellipse_all)\n",
    "ax.add_patch(ellipse_host)\n",
    "plt.xlim(-.25,.25)\n",
    "plt.ylim(-.25,.25)\n",
    "plt.plot([0,diff_w[0]],[0,0])\n",
    "plt.plot([0,0],[0,diff_w[2]])\n",
    "plt.xlabel('Ax')\n",
    "plt.ylabel('Az')\n",
    "plt.show()"
   ]
  },
  {
   "cell_type": "code",
   "execution_count": 105,
   "metadata": {},
   "outputs": [],
   "source": [
    "I_all = np.load('mwm_all_inertia_tensor_no_norm.npy')\n",
    "I_host = np.load('mwm_host_inertia_tensor_no_norm.npy')\n",
    "#I_host = np.load('mwm_host_inertia_tensor_1it.npy')\n",
    "#I_host = np.load('mwm_host_inertia_tensor_no_norm_1it.npy')\n",
    "#I_host = np.load('mwm_host_inertia_tensor.npy')\n",
    "I_subs = I_all - I_host"
   ]
  },
  {
   "cell_type": "code",
   "execution_count": 106,
   "metadata": {},
   "outputs": [
    {
     "data": {
      "text/plain": [
       "array([[[ 9.35096437e-07,  1.13962907e-07,  1.60710305e-07],\n",
       "        [ 1.13962907e-07,  5.69964818e-07,  5.51044952e-08],\n",
       "        [ 1.60710305e-07,  5.51044952e-08,  5.94930751e-07]],\n",
       "\n",
       "       [[ 4.42289171e-07, -1.54592361e-07, -8.32774679e-08],\n",
       "        [-1.54592361e-07,  3.97659932e-07,  3.98126744e-08],\n",
       "        [-8.32774679e-08,  3.98126744e-08,  3.23119438e-07]],\n",
       "\n",
       "       [[ 6.09358366e-07, -4.75984530e-08,  1.00903968e-07],\n",
       "        [-4.75984530e-08,  7.06436551e-07,  2.14594815e-07],\n",
       "        [ 1.00903968e-07,  2.14594815e-07,  4.61144625e-07]],\n",
       "\n",
       "       [[ 6.45310834e-07, -2.16864964e-07,  1.90122533e-08],\n",
       "        [-2.16864964e-07,  8.90480098e-07, -1.45635379e-07],\n",
       "        [ 1.90122533e-08, -1.45635379e-07,  6.19052502e-07]],\n",
       "\n",
       "       [[ 9.27379683e-07, -3.82179459e-07,  2.15110265e-08],\n",
       "        [-3.82179459e-07,  6.07983235e-07,  7.58640897e-09],\n",
       "        [ 2.15110265e-08,  7.58640897e-09,  4.64071479e-07]],\n",
       "\n",
       "       [[ 7.48752326e-07, -1.68187477e-08,  1.97378153e-07],\n",
       "        [-1.68187477e-08,  5.00210509e-07, -2.44127433e-08],\n",
       "        [ 1.97378153e-07, -2.44127433e-08,  1.01674712e-06]],\n",
       "\n",
       "       [[ 7.65913561e-07, -1.14119429e-07, -3.49706545e-08],\n",
       "        [-1.14119429e-07,  5.24693833e-07,  1.29288232e-07],\n",
       "        [-3.49706545e-08,  1.29288232e-07,  7.39262213e-07]],\n",
       "\n",
       "       [[ 1.08434119e-06, -2.57390835e-07,  1.75665306e-07],\n",
       "        [-2.57390835e-07,  5.73198414e-07,  1.41703119e-08],\n",
       "        [ 1.75665306e-07,  1.41703119e-08,  3.85148689e-07]],\n",
       "\n",
       "       [[ 6.57218935e-07,  1.99750017e-08, -8.46646914e-08],\n",
       "        [ 1.99750017e-08,  1.05293314e-06, -7.88946031e-08],\n",
       "        [-8.46646914e-08, -7.88946031e-08,  5.03143721e-07]],\n",
       "\n",
       "       [[ 1.06428001e-06,  1.11446562e-07,  9.19972612e-08],\n",
       "        [ 1.11446562e-07,  7.19073394e-07, -6.70104493e-08],\n",
       "        [ 9.19972612e-08, -6.70104493e-08,  8.17281206e-07]],\n",
       "\n",
       "       [[ 8.24576401e-07, -7.33577991e-08, -6.14549505e-08],\n",
       "        [-7.33577991e-08,  8.14824933e-07,  1.95289331e-08],\n",
       "        [-6.14549505e-08,  1.95289331e-08,  1.06910882e-06]],\n",
       "\n",
       "       [[ 1.06054495e-06,  9.45581893e-08,  6.09084921e-08],\n",
       "        [ 9.45581893e-08,  6.23288889e-07, -1.44527212e-08],\n",
       "        [ 6.09084921e-08, -1.44527212e-08,  8.01743460e-07]],\n",
       "\n",
       "       [[ 7.97363238e-07,  1.25298602e-08,  1.20018128e-07],\n",
       "        [ 1.25298602e-08,  4.86653650e-07, -1.26558706e-07],\n",
       "        [ 1.20018128e-07, -1.26558706e-07,  5.26326022e-07]],\n",
       "\n",
       "       [[ 8.29191058e-07,  2.33061025e-07, -1.21871305e-07],\n",
       "        [ 2.33061025e-07,  5.89031303e-07, -1.53697224e-07],\n",
       "        [-1.21871305e-07, -1.53697224e-07,  4.15085928e-07]],\n",
       "\n",
       "       [[ 6.57174981e-07,  1.46065476e-07, -1.27258939e-07],\n",
       "        [ 1.46065476e-07,  3.48787386e-07,  1.71672172e-08],\n",
       "        [-1.27258939e-07,  1.71672172e-08,  4.08570469e-07]],\n",
       "\n",
       "       [[ 1.04384994e-06, -4.36427320e-08, -7.26550479e-09],\n",
       "        [-4.36427320e-08,  8.71546834e-07, -6.71866823e-09],\n",
       "        [-7.26550479e-09, -6.71866823e-09,  5.55740096e-07]],\n",
       "\n",
       "       [[ 9.69303461e-07, -2.32284487e-07, -1.43226262e-07],\n",
       "        [-2.32284487e-07,  7.01656544e-07,  1.16046233e-07],\n",
       "        [-1.43226262e-07,  1.16046233e-07,  6.07176045e-07]],\n",
       "\n",
       "       [[ 5.47196084e-07,  1.34314529e-07,  1.78079805e-07],\n",
       "        [ 1.34314529e-07,  4.40196223e-07,  1.67855387e-07],\n",
       "        [ 1.78079805e-07,  1.67855387e-07,  5.29197103e-07]],\n",
       "\n",
       "       [[ 6.31284700e-07,  3.36588390e-07,  6.84445329e-08],\n",
       "        [ 3.36588390e-07,  8.39114767e-07,  6.11825839e-08],\n",
       "        [ 6.84445329e-08,  6.11825839e-08,  3.90060009e-07]],\n",
       "\n",
       "       [[ 7.05494526e-07,  1.06508367e-07, -3.86685665e-08],\n",
       "        [ 1.06508367e-07,  8.27454779e-07,  1.49154189e-07],\n",
       "        [-3.86685665e-08,  1.49154189e-07,  7.90767750e-07]],\n",
       "\n",
       "       [[ 2.17434898e-07, -2.81403041e-08,  4.06419915e-08],\n",
       "        [-2.81403041e-08,  3.34565273e-07,  1.02628323e-07],\n",
       "        [ 4.06419915e-08,  1.02628323e-07,  6.44750132e-07]],\n",
       "\n",
       "       [[ 7.26773679e-07, -3.98121948e-08,  1.20367912e-07],\n",
       "        [-3.98121948e-08,  7.27456018e-07, -7.70753460e-08],\n",
       "        [ 1.20367912e-07, -7.70753460e-08,  9.82388769e-07]],\n",
       "\n",
       "       [[ 4.49444499e-07,  1.32880098e-08,  1.98270627e-08],\n",
       "        [ 1.32880098e-08,  8.52683668e-07, -1.19511648e-07],\n",
       "        [ 1.98270627e-08, -1.19511648e-07,  4.03149546e-07]],\n",
       "\n",
       "       [[ 3.62621281e-07, -6.77854940e-08, -1.47078831e-07],\n",
       "        [-6.77854940e-08,  2.47414538e-07,  1.40164518e-07],\n",
       "        [-1.47078831e-07,  1.40164518e-07,  5.51200221e-07]],\n",
       "\n",
       "       [[ 4.01349934e-07, -1.70367146e-07, -1.75018230e-07],\n",
       "        [-1.70367146e-07,  4.34408560e-07,  2.53401878e-07],\n",
       "        [-1.75018230e-07,  2.53401878e-07,  4.87611526e-07]],\n",
       "\n",
       "       [[ 9.17196005e-07, -9.29764552e-08,  1.03570311e-07],\n",
       "        [-9.29764552e-08,  7.24585807e-07, -4.70523379e-08],\n",
       "        [ 1.03570311e-07, -4.70523379e-08,  7.68308833e-07]],\n",
       "\n",
       "       [[ 7.31428327e-07,  2.51473126e-07,  1.39656124e-08],\n",
       "        [ 2.51473126e-07,  9.61983285e-07, -5.46625377e-08],\n",
       "        [ 1.39656124e-08, -5.46625377e-08,  3.49407234e-07]],\n",
       "\n",
       "       [[ 6.10389084e-07, -6.42715626e-09,  1.18255765e-07],\n",
       "        [-6.42715626e-09,  1.04462585e-06, -6.01884441e-08],\n",
       "        [ 1.18255765e-07, -6.01884441e-08,  1.01395299e-06]],\n",
       "\n",
       "       [[ 5.82186135e-07,  1.98670105e-07, -2.20624392e-08],\n",
       "        [ 1.98670105e-07,  5.74911027e-07,  2.59414921e-08],\n",
       "        [-2.20624392e-08,  2.59414921e-08,  9.92056925e-07]],\n",
       "\n",
       "       [[ 5.03519502e-07, -1.22359714e-07,  1.95990756e-09],\n",
       "        [-1.22359714e-07,  8.78205582e-07, -7.17316979e-08],\n",
       "        [ 1.95990756e-09, -7.17316979e-08,  5.16628323e-07]],\n",
       "\n",
       "       [[ 3.32104412e-07,  1.21782254e-07, -6.04765376e-09],\n",
       "        [ 1.21782254e-07,  7.27911262e-07,  2.70308758e-07],\n",
       "        [-6.04765376e-09,  2.70308758e-07,  7.04852670e-07]],\n",
       "\n",
       "       [[ 1.05534358e-06,  2.93115483e-09,  6.17294360e-08],\n",
       "        [ 2.93115483e-09,  7.88420351e-07,  7.16465884e-08],\n",
       "        [ 6.17294360e-08,  7.16465884e-08,  9.35095844e-07]],\n",
       "\n",
       "       [[ 5.90048254e-07,  1.16566670e-07, -2.30057487e-08],\n",
       "        [ 1.16566670e-07,  7.58372303e-07, -1.81258770e-07],\n",
       "        [-2.30057487e-08, -1.81258770e-07,  1.00187960e-06]],\n",
       "\n",
       "       [[ 6.34725800e-07, -2.55858901e-07, -1.11013208e-07],\n",
       "        [-2.55858901e-07,  8.96610879e-07,  7.96189020e-08],\n",
       "        [-1.11013208e-07,  7.96189020e-08,  7.22008292e-07]],\n",
       "\n",
       "       [[ 6.05488174e-07,  2.87368139e-07, -1.65340940e-07],\n",
       "        [ 2.87368139e-07,  5.60917518e-07, -1.37533868e-07],\n",
       "        [-1.65340940e-07, -1.37533868e-07,  3.97358797e-07]],\n",
       "\n",
       "       [[ 7.63190770e-07,  1.85854053e-07, -1.54062831e-07],\n",
       "        [ 1.85854053e-07,  4.53791765e-07, -9.17453693e-08],\n",
       "        [-1.54062831e-07, -9.17453693e-08,  5.06584023e-07]],\n",
       "\n",
       "       [[ 9.73573265e-07, -5.09913911e-09, -2.08506695e-07],\n",
       "        [-5.09913911e-09,  4.42707543e-07, -5.33810153e-09],\n",
       "        [-2.08506695e-07, -5.33810153e-09,  6.01266919e-07]],\n",
       "\n",
       "       [[ 1.00062927e-06,  1.69078611e-07, -9.82034058e-08],\n",
       "        [ 1.69078611e-07,  4.33065358e-07,  4.92204634e-08],\n",
       "        [-9.82034058e-08,  4.92204634e-08,  9.39568078e-07]],\n",
       "\n",
       "       [[ 1.03225291e-06, -3.08009893e-08,  1.09137711e-07],\n",
       "        [-3.08009893e-08,  6.91328934e-07, -7.70099500e-09],\n",
       "        [ 1.09137711e-07, -7.70099500e-09,  7.40834798e-07]],\n",
       "\n",
       "       [[ 1.11832619e-06, -1.75498484e-07, -6.38649392e-08],\n",
       "        [-1.75498484e-07,  6.17078826e-07,  8.49467439e-08],\n",
       "        [-6.38649392e-08,  8.49467439e-08,  7.55007678e-07]],\n",
       "\n",
       "       [[ 8.10884853e-07,  9.04023094e-08, -1.43508398e-07],\n",
       "        [ 9.04023094e-08,  8.74876783e-07,  1.39519442e-07],\n",
       "        [-1.43508398e-07,  1.39519442e-07,  8.87588527e-07]],\n",
       "\n",
       "       [[ 6.62756896e-07,  7.43962124e-08,  1.47097957e-07],\n",
       "        [ 7.43962124e-08,  9.68600599e-07, -1.57798215e-07],\n",
       "        [ 1.47097957e-07, -1.57798215e-07,  5.62998300e-07]],\n",
       "\n",
       "       [[ 5.14901413e-07,  9.21638238e-09,  6.71345479e-08],\n",
       "        [ 9.21638238e-09,  1.02618237e-06,  2.03724877e-07],\n",
       "        [ 6.71345479e-08,  2.03724877e-07,  4.81274030e-07]],\n",
       "\n",
       "       [[ 6.88078204e-07, -8.33167950e-08,  1.81061494e-07],\n",
       "        [-8.33167950e-08,  9.39495204e-07, -2.10936752e-08],\n",
       "        [ 1.81061494e-07, -2.10936752e-08,  8.00330386e-07]],\n",
       "\n",
       "       [[ 6.31325378e-07, -6.97281183e-08,  6.99324178e-08],\n",
       "        [-6.97281183e-08,  3.51651931e-07, -8.43498124e-08],\n",
       "        [ 6.99324178e-08, -8.43498124e-08,  4.38400415e-07]]])"
      ]
     },
     "execution_count": 106,
     "metadata": {},
     "output_type": "execute_result"
    }
   ],
   "source": [
    "I_host"
   ]
  },
  {
   "cell_type": "code",
   "execution_count": 97,
   "metadata": {},
   "outputs": [],
   "source": [
    "for i in range(1):\n",
    "    w,v,wv = get_eigs(I_subs[i])\n",
    "    host_w,host_v,host_wv = get_eigs(I_host[i])"
   ]
  },
  {
   "cell_type": "code",
   "execution_count": 98,
   "metadata": {},
   "outputs": [],
   "source": [
    "new_v = transform(v.T,host_v)"
   ]
  },
  {
   "cell_type": "code",
   "execution_count": 99,
   "metadata": {},
   "outputs": [],
   "source": [
    "r = np.sqrt(new_v[0][0]**2+new_v[0][1]**2)/norm(np.sqrt(new_v[0][0]**2+new_v[0][1]**2))\n",
    "theta = np.arctan(new_v[0][1]/new_v[0][0])"
   ]
  },
  {
   "cell_type": "code",
   "execution_count": 100,
   "metadata": {},
   "outputs": [
    {
     "data": {
      "text/plain": [
       "<matplotlib.lines.Line2D at 0x7f8a85702160>"
      ]
     },
     "execution_count": 100,
     "metadata": {},
     "output_type": "execute_result"
    },
    {
     "data": {
      "image/png": "[encoded data removed]",
      "text/plain": [
       "<Figure size 432x288 with 1 Axes>"
      ]
     },
     "metadata": {
      "needs_background": "light"
     },
     "output_type": "display_data"
    }
   ],
   "source": [
    "ang = np.linspace(0,2*np.pi,100)\n",
    "plt.plot(np.cos(ang),np.sin(ang))\n",
    "plt.scatter(r*np.cos(theta),r*np.sin(theta))\n",
    "plt.plot([0,r*np.cos(theta)],[0,r*np.sin(theta)])\n",
    "plt.axhline(0)"
   ]
  },
  {
   "cell_type": "code",
   "execution_count": 123,
   "metadata": {},
   "outputs": [
    {
     "data": {
      "text/plain": [
       "array([7, 8])"
      ]
     },
     "execution_count": 123,
     "metadata": {},
     "output_type": "execute_result"
    }
   ],
   "source": [
    "arr = np.array((1,2,3,4,5,6,7,8))\n",
    "arr[-2:]"
   ]
  },
  {
   "cell_type": "code",
   "execution_count": null,
   "metadata": {},
   "outputs": [],
   "source": []
  }
 ],
 "metadata": {
  "kernelspec": {
   "display_name": "Python 3.9.7 ('base')",
   "language": "python",
   "name": "python3"
  },
  "language_info": {
   "codemirror_mode": {
    "name": "ipython",
    "version": 3
   },
   "file_extension": ".py",
   "mimetype": "text/x-python",
   "name": "python",
   "nbconvert_exporter": "python",
   "pygments_lexer": "ipython3",
   "version": "3.9.7"
  },
  "vscode": {
   "interpreter": {
    "hash": "a9d3de6ea8e9e54fedcfba7fa8135ecfe24b68705134fd0d8307aa7ac434e8f4"
   }
  }
 },
 "nbformat": 4,
 "nbformat_minor": 4
}
