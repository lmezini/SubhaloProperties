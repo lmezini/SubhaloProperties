{
 "cells": [
  {
   "cell_type": "code",
   "execution_count": 5,
   "metadata": {},
   "outputs": [],
   "source": [
    "from IPython.display import display, HTML\n",
    "import six\n",
    "import matplotlib as plt\n",
    "import numpy as np\n",
    "import pandas as pd"
   ]
  },
  {
   "cell_type": "code",
   "execution_count": 4,
   "metadata": {},
   "outputs": [],
   "source": [
    "def render_mpl_table(data, col_width=1, row_height=0.625, font_size=14, header_size=16,\n",
    "                     header_color='#1f77b4', row_colors=['#f1f1f2', 'w'], edge_color='w',\n",
    "                     bbox=[0, 0, 1, 1], header_columns=0,\n",
    "                     ax=None, **kwargs):\n",
    "    if ax is None:\n",
    "        size = (np.array(data.shape[::-1]) + np.array([0, 1])) * np.array([col_width, row_height])\n",
    "        fig, ax = plt.subplots(figsize=size)\n",
    "        ax.axis('off')\n",
    "    \n",
    "    header2 = ax.table(cellText=[['']],bbox=[0.09,0.7,0.91,0.5],colLabels=[\"Cluster-Mass Subhaloes Included\"])\n",
    "    header2.auto_set_font_size(False)\n",
    "    header2.set_fontsize(header_size)\n",
    "    for k, cell in six.iteritems(header2._cells):\n",
    "        cell.set_edgecolor(edge_color)\n",
    "    \n",
    "    mpl_table = ax.table(cellText=data.values, bbox=bbox, colLabels=data.columns, **kwargs)\n",
    "    mpl_table.auto_set_font_size(False)\n",
    "    mpl_table.set_fontsize(font_size)\n",
    "    \n",
    "    for k, cell in six.iteritems(mpl_table._cells):\n",
    "        cell.set_edgecolor(edge_color)\n",
    "        if k[0] == 0 or k[1] < header_columns:\n",
    "            cell.set_text_props(weight='bold', color='w')\n",
    "            cell.set_facecolor(header_color)\n",
    "        #else:\n",
    "        #    cell.set_facecolor(row_colors[k[0]%len(row_colors) ])\n",
    "    for k, cell in six.iteritems(mpl_table._cells):\n",
    "        if (k[0] == 1 or k[0]==4) and k[1] >= header_columns:\n",
    "            cell.set_facecolor(header_color)\n",
    "            cell.set_alpha(0.3)\n",
    "    plt.tight_layout()\n",
    "    plt.subplots_adjust(top=0.7)\n",
    "    plt.show()\n",
    "    #plt.savefig('best_fit_rhap_subs.pdf')\n",
    "    return ax"
   ]
  },
  {
   "cell_type": "code",
   "execution_count": 6,
   "metadata": {},
   "outputs": [
    {
     "ename": "NameError",
     "evalue": "name 'rs' is not defined",
     "output_type": "error",
     "traceback": [
      "\u001b[0;31m---------------------------------------------------------------------------\u001b[0m",
      "\u001b[0;31mNameError\u001b[0m                                 Traceback (most recent call last)",
      "\u001b[0;32m/var/folders/q3/qkwnggcn0hz9nm0zc4p3drfr0000gn/T/ipykernel_40877/24710290.py\u001b[0m in \u001b[0;36m<module>\u001b[0;34m\u001b[0m\n\u001b[1;32m      3\u001b[0m )\n\u001b[1;32m      4\u001b[0m \u001b[0;34m\u001b[0m\u001b[0m\n\u001b[0;32m----> 5\u001b[0;31m rhap_subs = {r'$r_{s}$': np.around(rs/np.median(rhapsody_host_rvir),4),\n\u001b[0m\u001b[1;32m      6\u001b[0m              \u001b[0;34mr'$\\alpha$'\u001b[0m\u001b[0;34m:\u001b[0m \u001b[0malpha\u001b[0m\u001b[0;34m,\u001b[0m\u001b[0;34m\u001b[0m\u001b[0;34m\u001b[0m\u001b[0m\n\u001b[1;32m      7\u001b[0m              \u001b[0;34mr'$\\beta$'\u001b[0m\u001b[0;34m:\u001b[0m\u001b[0mbeta\u001b[0m\u001b[0;34m,\u001b[0m\u001b[0;34m\u001b[0m\u001b[0;34m\u001b[0m\u001b[0m\n",
      "\u001b[0;31mNameError\u001b[0m: name 'rs' is not defined"
     ]
    }
   ],
   "source": [
    "models = pd.DataFrame(\n",
    "    data=[\"NFW\",\"G.NFW\",\"Einasto\",\"G.Einasto\"], columns=[\"Models\"]\n",
    ")\n",
    "\n",
    "rhap_subs = {r'$r_{s}$': np.around(rs/np.median(rhapsody_host_rvir),4),\n",
    "             r'$\\alpha$': alpha,\n",
    "             r'$\\beta$':beta,\n",
    "             r'$\\gamma$': gamma,\n",
    "             r'$c_{-2}$':np.around(c2,2)}\n",
    "rhap_subs_df = pd.DataFrame(rhap_subs)\n",
    "rhap_subs_df = pd.concat(\n",
    "    [models, rhap_subs_df],axis=1,)\n",
    "\n",
    "render_mpl_table(rhap_subs_df, header_columns=1,col_width=1.3)"
   ]
  },
  {
   "cell_type": "code",
   "execution_count": null,
   "metadata": {},
   "outputs": [],
   "source": []
  }
 ],
 "metadata": {
  "kernelspec": {
   "display_name": "Python 3.9.7 ('sub_dist')",
   "language": "python",
   "name": "python3"
  },
  "language_info": {
   "codemirror_mode": {
    "name": "ipython",
    "version": 3
   },
   "file_extension": ".py",
   "mimetype": "text/x-python",
   "name": "python",
   "nbconvert_exporter": "python",
   "pygments_lexer": "ipython3",
   "version": "3.9.7"
  },
  "orig_nbformat": 4,
  "vscode": {
   "interpreter": {
    "hash": "0372cc7046c6f104f57b9ebf63a4b8b245d5e8f8c256e208557f356a4d18db0d"
   }
  }
 },
 "nbformat": 4,
 "nbformat_minor": 2
}
