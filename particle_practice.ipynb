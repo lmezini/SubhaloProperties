{
 "cells": [
  {
   "cell_type": "code",
   "execution_count": 1,
   "metadata": {},
   "outputs": [],
   "source": [
    "from helpers.SimulationAnalysis import readHlist\n",
    "import pandas as pd\n",
    "from helpers.io_utils import hlist2pandas\n",
    "import matplotlib.pyplot as plt\n",
    "import numpy as np\n",
    "from io import StringIO"
   ]
  },
  {
   "cell_type": "code",
   "execution_count": 2,
   "metadata": {},
   "outputs": [],
   "source": [
    "#halo_id = halos['id']\n",
    "def get_particles(halo,host_id = None):\n",
    "    #Get Halo info\n",
    "    data = hlist2pandas('/Users/lmezini/proj_2/Halos_Recalculated/{}/out_0.list'.format(halo))\n",
    "    ##make keys all lowercase letters\n",
    "    halos = data.rename(columns={c: c.lower() for c in data.columns})\n",
    "    if host_id is None:\n",
    "        host_id = halos.at[halos['mvir'].idxmax(), 'id'] #get ID of most massive halo\n",
    "        print(host_id)\n",
    "    host = next(halos.query('id == {}'.format(host_id)).itertuples()) #get host info from table\n",
    "    #get distance to host\n",
    "    halos['dist_to_host'] = halos.eval('sqrt((x-@host.x)**2 + (y-@host.y)**2 + (z-@host.z)**2)')\n",
    "    #find where the distance to host is less than rvir*0.002\n",
    "    halos = halos.query('dist_to_host < (@host.rvir*0.002)') \n",
    "    halo_ids = set(halos['id'].tolist())\n",
    "    part_table_header = 'x y z vx vy vz particle_id assigned_internal_haloid internal_haloid external_haloid'.split()\n",
    "    part_table = StringIO() #create a file object for the particle table\n",
    "    with open('MWM_particles/{}/halos_0.0.particles'.format(halo)) as f:\n",
    "        for l in f:\n",
    "            #pass all rows not associated with particle table\n",
    "            if l[0]=='#':\n",
    "                continue\n",
    "            #check if external_haloid of particles == halo_id to match particles to halos    \n",
    "            eid = int(l.strip().rpartition(' ')[-1])\n",
    "            if eid in halo_ids:\n",
    "                part_table.write(l)\n",
    "    part_table.seek(0)\n",
    "    particles=pd.read_csv(part_table, names = part_table_header,\n",
    "        dtype=dict([(n, np.int if n.endswith('id') else np.float) for n in part_table_header]),\n",
    "        engine='c', delim_whitespace=True, header=None, skipinitialspace=True,\n",
    "        na_filter=False, quotechar=' '\n",
    "            )\n",
    "    del part_table\n",
    "    particles_host = particles[particles['external_haloid'] == host.id]\n",
    "    particles = particles[['particle_id', 'external_haloid']]\n",
    "    particles = pd.merge(particles, halos[['id', 'vmax']], \n",
    "                         left_on='external_haloid', right_on='id')\n",
    "    particles = particles.sort_values('vmax')\n",
    "    particles = particles[['particle_id', 'external_haloid']]\n",
    "    particles = particles[~particles.duplicated('particle_id')]\n",
    "    particles = particles.rename(columns={'external_haloid': 'smallest_external_haloid'})\n",
    "    particles_host = pd.merge(particles_host, particles, how='left', on='particle_id')\n",
    "    particles_host['dist_to_host'] = particles_host.eval('sqrt((x-@host.x)**2 + (y-@host.y)**2 + (z-@host.z)**2)')\n",
    "\n",
    "    return particles_host"
   ]
  },
  {
   "cell_type": "code",
   "execution_count": 156,
   "metadata": {},
   "outputs": [
    {
     "name": "stdout",
     "output_type": "stream",
     "text": [
      "29189\n"
     ]
    },
    {
     "data": {
      "text/html": [
       "<div>\n",
       "<style scoped>\n",
       "    .dataframe tbody tr th:only-of-type {\n",
       "        vertical-align: middle;\n",
       "    }\n",
       "\n",
       "    .dataframe tbody tr th {\n",
       "        vertical-align: top;\n",
       "    }\n",
       "\n",
       "    .dataframe thead th {\n",
       "        text-align: right;\n",
       "    }\n",
       "</style>\n",
       "<table border=\"1\" class=\"dataframe\">\n",
       "  <thead>\n",
       "    <tr style=\"text-align: right;\">\n",
       "      <th></th>\n",
       "      <th>x</th>\n",
       "      <th>y</th>\n",
       "      <th>z</th>\n",
       "      <th>vx</th>\n",
       "      <th>vy</th>\n",
       "      <th>vz</th>\n",
       "      <th>assigned_internal_haloid</th>\n",
       "      <th>internal_haloid</th>\n",
       "      <th>external_haloid</th>\n",
       "      <th>particle_id</th>\n",
       "      <th>smallest_external_haloid</th>\n",
       "      <th>dist_to_host</th>\n",
       "    </tr>\n",
       "  </thead>\n",
       "  <tbody>\n",
       "  </tbody>\n",
       "</table>\n",
       "</div>"
      ],
      "text/plain": [
       "Empty DataFrame\n",
       "Columns: [x, y, z, vx, vy, vz, assigned_internal_haloid, internal_haloid, external_haloid, particle_id, smallest_external_haloid, dist_to_host]\n",
       "Index: []"
      ]
     },
     "execution_count": 156,
     "metadata": {},
     "output_type": "execute_result"
    }
   ],
   "source": [
    "get_particles('Halo023',None)\n"
   ]
  },
  {
   "cell_type": "code",
   "execution_count": 158,
   "metadata": {},
   "outputs": [
    {
     "data": {
      "text/html": [
       "<div>\n",
       "<style scoped>\n",
       "    .dataframe tbody tr th:only-of-type {\n",
       "        vertical-align: middle;\n",
       "    }\n",
       "\n",
       "    .dataframe tbody tr th {\n",
       "        vertical-align: top;\n",
       "    }\n",
       "\n",
       "    .dataframe thead th {\n",
       "        text-align: right;\n",
       "    }\n",
       "</style>\n",
       "<table border=\"1\" class=\"dataframe\">\n",
       "  <thead>\n",
       "    <tr style=\"text-align: right;\">\n",
       "      <th></th>\n",
       "      <th>ID</th>\n",
       "      <th>DescID</th>\n",
       "      <th>Mvir</th>\n",
       "      <th>Vmax</th>\n",
       "      <th>Vrms</th>\n",
       "      <th>Rvir</th>\n",
       "      <th>Rs</th>\n",
       "      <th>Np</th>\n",
       "      <th>X</th>\n",
       "      <th>Y</th>\n",
       "      <th>...</th>\n",
       "      <th>c_to_a_ES</th>\n",
       "      <th>A[x]_ES</th>\n",
       "      <th>A[y]_ES</th>\n",
       "      <th>A[z]_ES</th>\n",
       "      <th>b_to_a(500c)_ES</th>\n",
       "      <th>c_to_a(500c)_ES</th>\n",
       "      <th>A[x](500c)_ES</th>\n",
       "      <th>A[y](500c)_ES</th>\n",
       "      <th>A[z](500c)_ES</th>\n",
       "      <th>Rs_ES</th>\n",
       "    </tr>\n",
       "  </thead>\n",
       "  <tbody>\n",
       "    <tr>\n",
       "      <th>29330</th>\n",
       "      <td>29189</td>\n",
       "      <td>-1</td>\n",
       "      <td>62318000.0</td>\n",
       "      <td>9.29</td>\n",
       "      <td>7.64</td>\n",
       "      <td>8.145</td>\n",
       "      <td>0.208</td>\n",
       "      <td>252.0</td>\n",
       "      <td>55.94569</td>\n",
       "      <td>62.20426</td>\n",
       "      <td>...</td>\n",
       "      <td>0.76259</td>\n",
       "      <td>0.48946</td>\n",
       "      <td>-0.02266</td>\n",
       "      <td>0.20672</td>\n",
       "      <td>0.81234</td>\n",
       "      <td>0.68146</td>\n",
       "      <td>0.40935</td>\n",
       "      <td>0.02371</td>\n",
       "      <td>0.25905</td>\n",
       "      <td>0.20794</td>\n",
       "    </tr>\n",
       "  </tbody>\n",
       "</table>\n",
       "<p>1 rows × 58 columns</p>\n",
       "</div>"
      ],
      "text/plain": [
       "          ID  DescID        Mvir  Vmax  Vrms   Rvir     Rs     Np         X  \\\n",
       "29330  29189      -1  62318000.0  9.29  7.64  8.145  0.208  252.0  55.94569   \n",
       "\n",
       "              Y  ...  c_to_a_ES  A[x]_ES  A[y]_ES  A[z]_ES  b_to_a(500c)_ES  \\\n",
       "29330  62.20426  ...    0.76259  0.48946 -0.02266  0.20672          0.81234   \n",
       "\n",
       "       c_to_a(500c)_ES  A[x](500c)_ES  A[y](500c)_ES  A[z](500c)_ES    Rs_ES  \n",
       "29330          0.68146        0.40935        0.02371        0.25905  0.20794  \n",
       "\n",
       "[1 rows x 58 columns]"
      ]
     },
     "execution_count": 158,
     "metadata": {},
     "output_type": "execute_result"
    }
   ],
   "source": [
    "data = hlist2pandas('/Users/lmezini/proj_2/Halos_Recalculated/{}/out_0.list'.format('halo530'))\n",
    "data[data['ID']==29189]"
   ]
  },
  {
   "cell_type": "code",
   "execution_count": 35,
   "metadata": {},
   "outputs": [],
   "source": [
    "#separate particles between hosts and sub halos\n",
    "host_ptcls = df[df.internal_haloid == df.assigned_internal_haloid]\n",
    "#sub_ptcls = df[df.internal_haloid == df.assigned_internal_haloid]"
   ]
  },
  {
   "cell_type": "code",
   "execution_count": 14,
   "metadata": {},
   "outputs": [],
   "source": [
    "particles = df[['particle_id', 'external_haloid']]\n",
    "particles = pd.merge(particles, halos[['id', 'vmax']], left_on='external_haloid', right_on='id')\n",
    "particles = particles.sort_values('vmax')"
   ]
  },
  {
   "cell_type": "code",
   "execution_count": 15,
   "metadata": {},
   "outputs": [],
   "source": [
    "particles = particles[['particle_id', 'external_haloid']]\n",
    "particles = particles[~particles.duplicated('particle_id')]\n",
    "particles = particles.rename(columns={'external_haloid': 'smallest_external_haloid'})"
   ]
  },
  {
   "cell_type": "code",
   "execution_count": 16,
   "metadata": {},
   "outputs": [],
   "source": [
    "host_ptcls = pd.merge(host_ptcls, particles, how='left', on='particle_id')"
   ]
  },
  {
   "cell_type": "code",
   "execution_count": 17,
   "metadata": {},
   "outputs": [
    {
     "data": {
      "text/plain": [
       "<matplotlib.collections.PathCollection at 0x115b86c10>"
      ]
     },
     "execution_count": 17,
     "metadata": {},
     "output_type": "execute_result"
    },
    {
     "data": {
      "image/png": "[encoded data removed]",
      "text/plain": [
       "<Figure size 432x288 with 1 Axes>"
      ]
     },
     "metadata": {
      "needs_background": "light"
     },
     "output_type": "display_data"
    }
   ],
   "source": [
    "plt.scatter(host_ptcls.x,host_ptcls.y)\n",
    "plt.scatter(df.x,df.y)"
   ]
  },
  {
   "cell_type": "code",
   "execution_count": null,
   "metadata": {},
   "outputs": [],
   "source": []
  }
 ],
 "metadata": {
  "kernelspec": {
   "display_name": "Python 3",
   "language": "python",
   "name": "python3"
  },
  "language_info": {
   "codemirror_mode": {
    "name": "ipython",
    "version": 3
   },
   "file_extension": ".py",
   "mimetype": "text/x-python",
   "name": "python",
   "nbconvert_exporter": "python",
   "pygments_lexer": "ipython3",
   "version": "3.7.4-final"
  }
 },
 "nbformat": 4,
 "nbformat_minor": 5
}