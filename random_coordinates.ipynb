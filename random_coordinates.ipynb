{
 "cells": [
  {
   "cell_type": "code",
   "execution_count": 45,
   "metadata": {},
   "outputs": [],
   "source": [
    "import numpy as np\n",
    "import matplotlib.pyplot as plt"
   ]
  },
  {
   "cell_type": "code",
   "execution_count": 54,
   "metadata": {},
   "outputs": [],
   "source": [
    "def getPoint(r):\n",
    "\n",
    "    r = r*np.random.random(len(r))\n",
    "\n",
    "    theta = np.random.random(len(r)) * 2.0*np.pi\n",
    "    phi = np.random.random(len(r)) * np.pi\n",
    "    sinTheta = np.sin(theta)\n",
    "    cosTheta = np.cos(theta)\n",
    "    sinPhi = np.sin(phi)\n",
    "    cosPhi = np.cos(phi)\n",
    "    x = r * sinPhi * cosTheta\n",
    "    y = r * sinPhi * sinTheta\n",
    "    z = r * cosPhi\n",
    "\n",
    "    return np.array((x, y, z))\n"
   ]
  },
  {
   "cell_type": "code",
   "execution_count": 55,
   "metadata": {},
   "outputs": [],
   "source": [
    "coords = getPoint(np.repeat(.19,100))"
   ]
  },
  {
   "cell_type": "code",
   "execution_count": 56,
   "metadata": {},
   "outputs": [],
   "source": [
    "x = coords[0]\n",
    "y = coords[1]\n",
    "z = coords[2]"
   ]
  },
  {
   "cell_type": "code",
   "execution_count": 57,
   "metadata": {},
   "outputs": [
    {
     "data": {
      "text/plain": [
       "array([ 1.23575140e-02,  2.03745790e-02, -2.49106130e-02, -3.06398894e-02,\n",
       "        5.66728973e-03,  5.45831967e-03,  1.89471923e-03, -1.57677924e-01,\n",
       "        3.15650417e-03,  5.53066721e-02,  6.74336165e-02,  5.97567537e-02,\n",
       "        3.70710348e-02, -6.47537523e-02,  1.95669243e-02, -2.56091993e-02,\n",
       "       -1.23513943e-01, -9.49586413e-02, -1.39907940e-01,  2.24663815e-02,\n",
       "        4.52611091e-04,  1.30080099e-01, -1.59360269e-02,  9.68669937e-02,\n",
       "        2.11239935e-02, -1.40467348e-03,  2.03030233e-03, -2.10101532e-03,\n",
       "       -1.57482556e-03,  7.09885275e-02,  5.74033408e-02,  1.42038094e-02,\n",
       "       -1.38752867e-03,  3.69620687e-02, -4.92537691e-02, -1.64957491e-02,\n",
       "       -2.01617392e-02, -4.54605844e-02, -1.39993454e-03, -5.58488736e-02,\n",
       "       -8.45626335e-03, -2.63413029e-02,  2.40405403e-02, -1.10316131e-02,\n",
       "        3.87449447e-04, -5.29712762e-02,  3.88536202e-02,  8.20513170e-02,\n",
       "        8.66772648e-02,  1.95652700e-02, -1.33671331e-02,  8.03670302e-03,\n",
       "        5.98009235e-03, -1.40184760e-03, -4.14965741e-02, -2.42741933e-03,\n",
       "        4.31853080e-02,  1.25445330e-01, -4.62595055e-02, -2.28628958e-04,\n",
       "       -4.44982289e-02,  2.26985630e-03, -2.87227786e-02, -1.39316793e-02,\n",
       "        1.05193855e-02,  4.98771192e-02, -1.76038250e-02, -3.64166370e-03,\n",
       "       -2.59332714e-02, -7.53578092e-02,  1.22264511e-01, -2.71624583e-02,\n",
       "        4.49583757e-07, -5.06316288e-02, -4.82187782e-03, -9.64215668e-04,\n",
       "        5.17148416e-02,  7.18887292e-03,  1.29290396e-02,  8.77571279e-03,\n",
       "        4.89120528e-02, -4.94435861e-03,  1.77922143e-02,  2.21817931e-02,\n",
       "        3.43976446e-02,  1.48154002e-02, -1.43934902e-03,  4.10620833e-02,\n",
       "        2.65138044e-02, -6.28172503e-03, -6.44519572e-02, -3.67788031e-02,\n",
       "       -1.58663121e-02, -6.48692388e-03,  1.85758443e-02, -1.47208774e-02,\n",
       "        1.81343901e-02,  4.56761717e-02, -1.65961290e-03,  2.86297565e-02])"
      ]
     },
     "execution_count": 57,
     "metadata": {},
     "output_type": "execute_result"
    }
   ],
   "source": [
    "x"
   ]
  },
  {
   "cell_type": "code",
   "execution_count": 58,
   "metadata": {},
   "outputs": [
    {
     "data": {
      "text/plain": [
       "<matplotlib.collections.PathCollection at 0x7f96d8977520>"
      ]
     },
     "execution_count": 58,
     "metadata": {},
     "output_type": "execute_result"
    },
    {
     "data": {
      "image/png": "[encoded data removed]",
      "text/plain": [
       "<Figure size 432x288 with 1 Axes>"
      ]
     },
     "metadata": {
      "needs_background": "light"
     },
     "output_type": "display_data"
    }
   ],
   "source": [
    "plt.scatter(x,z)"
   ]
  },
  {
   "cell_type": "code",
   "execution_count": null,
   "metadata": {},
   "outputs": [],
   "source": []
  }
 ],
 "metadata": {
  "kernelspec": {
   "display_name": "sub_dist",
   "language": "python",
   "name": "python3"
  },
  "language_info": {
   "codemirror_mode": {
    "name": "ipython",
    "version": 3
   },
   "file_extension": ".py",
   "mimetype": "text/x-python",
   "name": "python",
   "nbconvert_exporter": "python",
   "pygments_lexer": "ipython3",
   "version": "3.9.7"
  }
 },
 "nbformat": 4,
 "nbformat_minor": 2
}
