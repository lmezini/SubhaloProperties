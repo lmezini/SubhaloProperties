{
 "cells": [
  {
   "cell_type": "code",
   "execution_count": 2,
   "metadata": {},
   "outputs": [
    {
     "name": "stderr",
     "output_type": "stream",
     "text": [
      "WARNING: AstropyDeprecationWarning: astropy.extern.six will be removed in 4.0, use the six module directly if it is still needed [astropy.extern.six]\n"
     ]
    }
   ],
   "source": [
    "from halotools.sim_manager import CachedHaloCatalog, FakeSim\n",
    "import numpy as np \n",
    "import numexpr as ne\n",
    "import scipy\n",
    "from scipy.optimize import minimize_scalar\n",
    "import matplotlib.pyplot as plt\n",
    "import random\n",
    "from astropy.io import ascii\n",
    "from helpers.io_utils import hlist2pandas\n",
    "from numpy.linalg import norm"
   ]
  },
  {
   "cell_type": "code",
   "execution_count": 14,
   "metadata": {},
   "outputs": [],
   "source": [
    "def get_angles(v1,v2):\n",
    "    angles = np.zeros(np.shape(v1)[0])\n",
    "    for i in range(len(v1)):\n",
    "        c = np.dot(v1[i],v2)/norm(v1[i])/norm(v2) # -> cosine of the angle\n",
    "        angle = np.arccos(np.clip(c, -1, 1))\n",
    "        angles[i] = angle\n",
    "    return angles"
   ]
  },
  {
   "cell_type": "code",
   "execution_count": 4,
   "metadata": {},
   "outputs": [],
   "source": [
    "halo = 'Halo023'\n",
    "data = hlist2pandas('/Users/lmezini/proj_2/Halos_Recalculated/{}/out_0.list'.format(halo))"
   ]
  },
  {
   "cell_type": "code",
   "execution_count": 5,
   "metadata": {},
   "outputs": [],
   "source": [
    "host_id = int(data.iloc[data['Mvir'].idxmax()]['ID'])\n",
    "hjx = data.iloc[data['Mvir'].idxmax()]['JX']\n",
    "hjy = data.iloc[data['Mvir'].idxmax()]['JY']\n",
    "hjz = data.iloc[data['Mvir'].idxmax()]['JZ']\n",
    "\n",
    "x = data.iloc[data['Mvir'].idxmax()]['X']\n",
    "y = data.iloc[data['Mvir'].idxmax()]['Y']\n",
    "z = data.iloc[data['Mvir'].idxmax()]['Z']"
   ]
  },
  {
   "cell_type": "code",
   "execution_count": 15,
   "metadata": {},
   "outputs": [
    {
     "name": "stderr",
     "output_type": "stream",
     "text": [
      "/anaconda3/envs/haloenv/lib/python3.7/site-packages/ipykernel_launcher.py:4: RuntimeWarning: divide by zero encountered in true_divide\n",
      "  after removing the cwd from sys.path.\n"
     ]
    }
   ],
   "source": [
    "pos = np.array(list(zip((data['X']-x),(data['Y']-y),(data['Z']-z))))\n",
    "vel = np.array(list(zip(data['VX'],data['VY'],data['VZ'])))\n",
    "ang_mom = np.array([hjx,hjy,hjz])\n",
    "ang_vel = np.divide(vel,pos)"
   ]
  },
  {
   "cell_type": "code",
   "execution_count": 18,
   "metadata": {},
   "outputs": [
    {
     "name": "stderr",
     "output_type": "stream",
     "text": [
      "/anaconda3/envs/haloenv/lib/python3.7/site-packages/ipykernel_launcher.py:4: RuntimeWarning: invalid value encountered in double_scalars\n",
      "  after removing the cwd from sys.path.\n",
      "/anaconda3/envs/haloenv/lib/python3.7/site-packages/numpy/lib/histograms.py:839: RuntimeWarning: invalid value encountered in greater_equal\n",
      "  keep = (tmp_a >= first_edge)\n",
      "/anaconda3/envs/haloenv/lib/python3.7/site-packages/numpy/lib/histograms.py:840: RuntimeWarning: invalid value encountered in less_equal\n",
      "  keep &= (tmp_a <= last_edge)\n"
     ]
    },
    {
     "data": {
      "image/png": "[encoded data removed]",
      "text/plain": [
       "<Figure size 432x288 with 1 Axes>"
      ]
     },
     "metadata": {
      "needs_background": "light"
     },
     "output_type": "display_data"
    }
   ],
   "source": [
    "plt.hist(get_angles(ang_vel,ang_mom)*(180./np.pi),bins=25)\n",
    "plt.show()"
   ]
  },
  {
   "cell_type": "code",
   "execution_count": null,
   "metadata": {},
   "outputs": [],
   "source": [
    "###Generate fake angular momentum data"
   ]
  },
  {
   "cell_type": "code",
   "execution_count": 11,
   "metadata": {},
   "outputs": [],
   "source": [
    "#let mass = 1.0\n",
    "particle_mass = 1.0# 281981.0\n",
    "m = 1e3\n",
    "rvir = 1e3\n",
    "G = 4.302*(10**-9.)"
   ]
  },
  {
   "cell_type": "code",
   "execution_count": 5,
   "metadata": {},
   "outputs": [
    {
     "name": "stdout",
     "output_type": "stream",
     "text": [
      "tot L mag: 198.6570925857385\n"
     ]
    }
   ],
   "source": [
    "#generate array of angular momenta for individual 100 particles\n",
    "l = np.random.normal(loc=2.0,size=100)\n",
    "print(\"tot L mag: {}\".format(sum(np.sqrt(l*l))))"
   ]
  },
  {
   "cell_type": "code",
   "execution_count": 6,
   "metadata": {},
   "outputs": [],
   "source": [
    "#To create x,y,z components, split up x^2, y^2, and z^2 are fractions of 1\n",
    "xyz = [np.random.uniform(0,1),np.random.uniform(0,1),np.random.uniform(0,1)]\n",
    "xyz = xyz/np.sum(xyz)"
   ]
  },
  {
   "cell_type": "code",
   "execution_count": 7,
   "metadata": {},
   "outputs": [
    {
     "name": "stdout",
     "output_type": "stream",
     "text": [
      "True\n"
     ]
    }
   ],
   "source": [
    "#using fractions, calculate x, y, z\n",
    "lx = np.sqrt(l**2*xyz[0])\n",
    "ly = np.sqrt(l**2*xyz[1])\n",
    "lz = np.sqrt(l**2*xyz[2])\n",
    "\n",
    "#check if it works\n",
    "print(round(lx[0]**2+ly[0]**2+lz[0]**2,4)==round(l[0]**2,4))\n",
    "l_arr = np.array(list(zip(lx,ly,lz)))\n"
   ]
  },
  {
   "cell_type": "code",
   "execution_count": 8,
   "metadata": {},
   "outputs": [],
   "source": [
    "##use the fact that r dot l = 0 to find r components\n",
    "#pick random values for rx, ry and solve for rz using identity\n",
    "x = np.random.uniform(size=100)*l\n",
    "y = np.random.uniform(size=100)*l\n",
    "z = -(x*lx+y*ly)/lz\n",
    "\n",
    "r = np.array(list(zip(x,y,z)))\n"
   ]
  },
  {
   "cell_type": "code",
   "execution_count": 9,
   "metadata": {},
   "outputs": [],
   "source": [
    "## create velocity array that is perpendicular using the fact that l x r = v\n",
    "vel = np.cross(l_arr,r)\n"
   ]
  },
  {
   "cell_type": "code",
   "execution_count": 14,
   "metadata": {},
   "outputs": [
    {
     "name": "stdout",
     "output_type": "stream",
     "text": [
      "[ 840829.63104183 1146033.00291956 1256338.21096157]\n"
     ]
    }
   ],
   "source": [
    "L = calc_ang_momentum(r,vel,m)\n",
    "print(L)"
   ]
  },
  {
   "cell_type": "code",
   "execution_count": 13,
   "metadata": {},
   "outputs": [
    {
     "data": {
      "text/plain": [
       "(array([0.44323174, 0.60411549, 0.66226136]),\n",
       " array([0.44323174, 0.60411549, 0.66226136]))"
      ]
     },
     "execution_count": 13,
     "metadata": {},
     "output_type": "execute_result"
    }
   ],
   "source": [
    "L/np.linalg.norm(L),l_arr.sum(axis=0)/np.linalg.norm(l_arr.sum(axis=0))"
   ]
  },
  {
   "cell_type": "code",
   "execution_count": 587,
   "metadata": {},
   "outputs": [],
   "source": [
    "S = calc_spin_bullock(L/np.linalg.norm(L),mvir,rvir)\n",
    "S_orig = calc_spin_bullock(l_arr.sum(axis=0)/np.linalg.norm(l_arr.sum(axis=0)),mvir,rvir)"
   ]
  },
  {
   "cell_type": "code",
   "execution_count": 588,
   "metadata": {},
   "outputs": [
    {
     "data": {
      "text/plain": [
       "(0.3409178957205109, 0.34091789572051084)"
      ]
     },
     "execution_count": 588,
     "metadata": {},
     "output_type": "execute_result"
    }
   ],
   "source": [
    "S,S_orig"
   ]
  },
  {
   "cell_type": "code",
   "execution_count": null,
   "metadata": {},
   "outputs": [],
   "source": []
  }
 ],
 "metadata": {
  "interpreter": {
   "hash": "1870d2fa0169cf8c3a570abd35780a612b1ac4938cdcfb1e714947fe48043886"
  },
  "kernelspec": {
   "display_name": "Python 3.7.4 64-bit ('haloenv': conda)",
   "language": "python",
   "name": "python3"
  },
  "language_info": {
   "codemirror_mode": {
    "name": "ipython",
    "version": 3
   },
   "file_extension": ".py",
   "mimetype": "text/x-python",
   "name": "python",
   "nbconvert_exporter": "python",
   "pygments_lexer": "ipython3",
   "version": "3.7.4"
  }
 },
 "nbformat": 4,
 "nbformat_minor": 4
}
