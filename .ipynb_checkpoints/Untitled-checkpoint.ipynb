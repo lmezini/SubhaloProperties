{
 "cells": [
  {
   "cell_type": "code",
   "execution_count": 1,
   "metadata": {},
   "outputs": [],
   "source": [
    "import numpy as np\n",
    "import matplotlib.pyplot as plt\n",
    "import scipy.optimize as op\n",
    "from astropy.io import ascii\n",
    "import pandas as pd\n",
    "import os"
   ]
  },
  {
   "cell_type": "code",
   "execution_count": 8,
   "metadata": {},
   "outputs": [],
   "source": [
    "host_rvir = []\n",
    "c_to_a_ES = []\n",
    "host_c_to_a = []\n",
    "spin_ES = []\n",
    "host_spin = []\n",
    "fnames = []\n",
    "for root, dirs, files in os.walk('Halos_Recalculated/'):\n",
    "    for hfile in dirs:\n",
    "        filename, extension = os.path.splitext(hfile)\n",
    "        data = ascii.read(root+'/'+filename+'/'+'out_0.list_final')\n",
    "        host_rvir.append(data['host_rvir'][0])\n",
    "        c_to_a_ES.append(data['c_to_a_ES'][0])\n",
    "        host_c_to_a.append(data['host_c_to_a'][0])\n",
    "        spin_ES.append(data['Spin_ES'][0])\n",
    "        host_spin.append(data['host_spin'][0])\n",
    "        fnames.append(filename)"
   ]
  },
  {
   "cell_type": "code",
   "execution_count": 31,
   "metadata": {},
   "outputs": [
    {
     "data": {
      "image/png": "[encoded data removed]",
      "text/plain": [
       "<Figure size 432x288 with 1 Axes>"
      ]
     },
     "metadata": {
      "needs_background": "light"
     },
     "output_type": "display_data"
    }
   ],
   "source": [
    "bins = np.linspace(0,1,10)\n",
    "plt.hist(c_to_a_ES,histtype='step',bins=bins)\n",
    "plt.hist(host_c_to_a,histtype='step',bins=bins)\n",
    "plt.show()"
   ]
  },
  {
   "cell_type": "code",
   "execution_count": 36,
   "metadata": {},
   "outputs": [
    {
     "data": {
      "image/png": "[encoded data removed]",
      "text/plain": [
       "<Figure size 432x288 with 1 Axes>"
      ]
     },
     "metadata": {
      "needs_background": "light"
     },
     "output_type": "display_data"
    }
   ],
   "source": [
    "bins = np.linspace(0,0.5,10)\n",
    "plt.hist(spin_ES,histtype='step',bins=bins)\n",
    "plt.hist(host_spin,histtype='step',bins=bins)\n",
    "plt.show()"
   ]
  },
  {
   "cell_type": "code",
   "execution_count": null,
   "metadata": {},
   "outputs": [],
   "source": []
  }
 ],
 "metadata": {
  "kernelspec": {
   "display_name": "Python 3",
   "language": "python",
   "name": "python3"
  },
  "language_info": {
   "codemirror_mode": {
    "name": "ipython",
    "version": 3
   },
   "file_extension": ".py",
   "mimetype": "text/x-python",
   "name": "python",
   "nbconvert_exporter": "python",
   "pygments_lexer": "ipython3",
   "version": "3.7.4"
  }
 },
 "nbformat": 4,
 "nbformat_minor": 4
}
